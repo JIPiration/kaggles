{
 "cells": [
  {
   "cell_type": "markdown",
   "metadata": {},
   "source": [
    "## __DeskDrop datasets EDA__"
   ]
  },
  {
   "cell_type": "code",
   "execution_count": 1,
   "metadata": {},
   "outputs": [],
   "source": [
    "import pandas as pd\n",
    "from datetime import datetime\n",
    "import re"
   ]
  },
  {
   "cell_type": "markdown",
   "metadata": {},
   "source": [
    "### __Users interactions__\n",
    "\n",
    "This section explores the dataset file containing users interactions on shared articles (users_interactions.csv)."
   ]
  },
  {
   "cell_type": "code",
   "execution_count": 2,
   "metadata": {},
   "outputs": [
    {
     "data": {
      "text/html": [
       "<div>\n",
       "<style scoped>\n",
       "    .dataframe tbody tr th:only-of-type {\n",
       "        vertical-align: middle;\n",
       "    }\n",
       "\n",
       "    .dataframe tbody tr th {\n",
       "        vertical-align: top;\n",
       "    }\n",
       "\n",
       "    .dataframe thead th {\n",
       "        text-align: right;\n",
       "    }\n",
       "</style>\n",
       "<table border=\"1\" class=\"dataframe\">\n",
       "  <thead>\n",
       "    <tr style=\"text-align: right;\">\n",
       "      <th></th>\n",
       "      <th>timestamp</th>\n",
       "      <th>eventType</th>\n",
       "      <th>contentId</th>\n",
       "      <th>personId</th>\n",
       "      <th>sessionId</th>\n",
       "      <th>userAgent</th>\n",
       "      <th>userRegion</th>\n",
       "      <th>userCountry</th>\n",
       "    </tr>\n",
       "  </thead>\n",
       "  <tbody>\n",
       "    <tr>\n",
       "      <th>0</th>\n",
       "      <td>1465413032</td>\n",
       "      <td>VIEW</td>\n",
       "      <td>-3499919498720038879</td>\n",
       "      <td>-8845298781299428018</td>\n",
       "      <td>1264196770339959068</td>\n",
       "      <td>NaN</td>\n",
       "      <td>NaN</td>\n",
       "      <td>NaN</td>\n",
       "    </tr>\n",
       "    <tr>\n",
       "      <th>1</th>\n",
       "      <td>1465412560</td>\n",
       "      <td>VIEW</td>\n",
       "      <td>8890720798209849691</td>\n",
       "      <td>-1032019229384696495</td>\n",
       "      <td>3621737643587579081</td>\n",
       "      <td>Mozilla/5.0 (Macintosh; Intel Mac OS X 10_11_2...</td>\n",
       "      <td>NY</td>\n",
       "      <td>US</td>\n",
       "    </tr>\n",
       "    <tr>\n",
       "      <th>2</th>\n",
       "      <td>1465416190</td>\n",
       "      <td>VIEW</td>\n",
       "      <td>310515487419366995</td>\n",
       "      <td>-1130272294246983140</td>\n",
       "      <td>2631864456530402479</td>\n",
       "      <td>NaN</td>\n",
       "      <td>NaN</td>\n",
       "      <td>NaN</td>\n",
       "    </tr>\n",
       "    <tr>\n",
       "      <th>3</th>\n",
       "      <td>1465413895</td>\n",
       "      <td>FOLLOW</td>\n",
       "      <td>310515487419366995</td>\n",
       "      <td>344280948527967603</td>\n",
       "      <td>-3167637573980064150</td>\n",
       "      <td>NaN</td>\n",
       "      <td>NaN</td>\n",
       "      <td>NaN</td>\n",
       "    </tr>\n",
       "    <tr>\n",
       "      <th>4</th>\n",
       "      <td>1465412290</td>\n",
       "      <td>VIEW</td>\n",
       "      <td>-7820640624231356730</td>\n",
       "      <td>-445337111692715325</td>\n",
       "      <td>5611481178424124714</td>\n",
       "      <td>NaN</td>\n",
       "      <td>NaN</td>\n",
       "      <td>NaN</td>\n",
       "    </tr>\n",
       "    <tr>\n",
       "      <th>...</th>\n",
       "      <td>...</td>\n",
       "      <td>...</td>\n",
       "      <td>...</td>\n",
       "      <td>...</td>\n",
       "      <td>...</td>\n",
       "      <td>...</td>\n",
       "      <td>...</td>\n",
       "      <td>...</td>\n",
       "    </tr>\n",
       "    <tr>\n",
       "      <th>72307</th>\n",
       "      <td>1485190425</td>\n",
       "      <td>LIKE</td>\n",
       "      <td>-6590819806697898649</td>\n",
       "      <td>-9016528795238256703</td>\n",
       "      <td>8614469745607949425</td>\n",
       "      <td>Mozilla/5.0 (Macintosh; Intel Mac OS X 10_11_4...</td>\n",
       "      <td>MG</td>\n",
       "      <td>BR</td>\n",
       "    </tr>\n",
       "    <tr>\n",
       "      <th>72308</th>\n",
       "      <td>1485190425</td>\n",
       "      <td>VIEW</td>\n",
       "      <td>-5813211845057621660</td>\n",
       "      <td>102305705598210278</td>\n",
       "      <td>5527770709392883642</td>\n",
       "      <td>Mozilla/5.0 (X11; Linux x86_64) AppleWebKit/53...</td>\n",
       "      <td>SP</td>\n",
       "      <td>BR</td>\n",
       "    </tr>\n",
       "    <tr>\n",
       "      <th>72309</th>\n",
       "      <td>1485190072</td>\n",
       "      <td>VIEW</td>\n",
       "      <td>-1999468346928419252</td>\n",
       "      <td>-9196668942822132778</td>\n",
       "      <td>-8300596454915870873</td>\n",
       "      <td>Mozilla/5.0 (Windows NT 10.0; Win64; x64) Appl...</td>\n",
       "      <td>SP</td>\n",
       "      <td>BR</td>\n",
       "    </tr>\n",
       "    <tr>\n",
       "      <th>72310</th>\n",
       "      <td>1485190434</td>\n",
       "      <td>VIEW</td>\n",
       "      <td>-6590819806697898649</td>\n",
       "      <td>-9016528795238256703</td>\n",
       "      <td>8614469745607949425</td>\n",
       "      <td>Mozilla/5.0 (Macintosh; Intel Mac OS X 10_11_4...</td>\n",
       "      <td>MG</td>\n",
       "      <td>BR</td>\n",
       "    </tr>\n",
       "    <tr>\n",
       "      <th>72311</th>\n",
       "      <td>1485187988</td>\n",
       "      <td>VIEW</td>\n",
       "      <td>5669290109546991426</td>\n",
       "      <td>5713241217519616260</td>\n",
       "      <td>6704552481483665372</td>\n",
       "      <td>Mozilla/5.0 (Windows NT 10.0; WOW64) AppleWebK...</td>\n",
       "      <td>MG</td>\n",
       "      <td>BR</td>\n",
       "    </tr>\n",
       "  </tbody>\n",
       "</table>\n",
       "<p>72312 rows × 8 columns</p>\n",
       "</div>"
      ],
      "text/plain": [
       "        timestamp eventType            contentId             personId  \\\n",
       "0      1465413032      VIEW -3499919498720038879 -8845298781299428018   \n",
       "1      1465412560      VIEW  8890720798209849691 -1032019229384696495   \n",
       "2      1465416190      VIEW   310515487419366995 -1130272294246983140   \n",
       "3      1465413895    FOLLOW   310515487419366995   344280948527967603   \n",
       "4      1465412290      VIEW -7820640624231356730  -445337111692715325   \n",
       "...           ...       ...                  ...                  ...   \n",
       "72307  1485190425      LIKE -6590819806697898649 -9016528795238256703   \n",
       "72308  1485190425      VIEW -5813211845057621660   102305705598210278   \n",
       "72309  1485190072      VIEW -1999468346928419252 -9196668942822132778   \n",
       "72310  1485190434      VIEW -6590819806697898649 -9016528795238256703   \n",
       "72311  1485187988      VIEW  5669290109546991426  5713241217519616260   \n",
       "\n",
       "                 sessionId                                          userAgent  \\\n",
       "0      1264196770339959068                                                NaN   \n",
       "1      3621737643587579081  Mozilla/5.0 (Macintosh; Intel Mac OS X 10_11_2...   \n",
       "2      2631864456530402479                                                NaN   \n",
       "3     -3167637573980064150                                                NaN   \n",
       "4      5611481178424124714                                                NaN   \n",
       "...                    ...                                                ...   \n",
       "72307  8614469745607949425  Mozilla/5.0 (Macintosh; Intel Mac OS X 10_11_4...   \n",
       "72308  5527770709392883642  Mozilla/5.0 (X11; Linux x86_64) AppleWebKit/53...   \n",
       "72309 -8300596454915870873  Mozilla/5.0 (Windows NT 10.0; Win64; x64) Appl...   \n",
       "72310  8614469745607949425  Mozilla/5.0 (Macintosh; Intel Mac OS X 10_11_4...   \n",
       "72311  6704552481483665372  Mozilla/5.0 (Windows NT 10.0; WOW64) AppleWebK...   \n",
       "\n",
       "      userRegion userCountry  \n",
       "0            NaN         NaN  \n",
       "1             NY          US  \n",
       "2            NaN         NaN  \n",
       "3            NaN         NaN  \n",
       "4            NaN         NaN  \n",
       "...          ...         ...  \n",
       "72307         MG          BR  \n",
       "72308         SP          BR  \n",
       "72309         SP          BR  \n",
       "72310         MG          BR  \n",
       "72311         MG          BR  \n",
       "\n",
       "[72312 rows x 8 columns]"
      ]
     },
     "execution_count": 2,
     "metadata": {},
     "output_type": "execute_result"
    }
   ],
   "source": [
    "interactions_df = pd.read_csv('./input/users_interactions.csv')\n",
    "interactions_df"
   ]
  },
  {
   "cell_type": "code",
   "execution_count": 3,
   "metadata": {},
   "outputs": [
    {
     "name": "stdout",
     "output_type": "stream",
     "text": [
      "First interaction: \t2016-03-14 22:54:36\n",
      "Last interaction: \t2017-03-01 04:21:51\n"
     ]
    }
   ],
   "source": [
    "def to_datetime(ts):\n",
    "    return datetime.fromtimestamp(ts)\n",
    "\n",
    "def to_datetime_str(ts):\n",
    "    return to_datetime(ts).strftime('%Y-%m-%d %H:%M:%S')\n",
    "\n",
    "print('First interaction: \\t%s' % to_datetime_str(interactions_df['timestamp'].min()))\n",
    "print('Last interaction: \\t%s' % to_datetime_str(interactions_df['timestamp'].max()))"
   ]
  },
  {
   "cell_type": "code",
   "execution_count": 4,
   "metadata": {},
   "outputs": [
    {
     "data": {
      "text/plain": [
       "Index(['timestamp', 'eventType', 'contentId', 'personId', 'sessionId',\n",
       "       'userAgent', 'userRegion', 'userCountry'],\n",
       "      dtype='object')"
      ]
     },
     "execution_count": 4,
     "metadata": {},
     "output_type": "execute_result"
    }
   ],
   "source": [
    "interactions_df.columns"
   ]
  },
  {
   "cell_type": "code",
   "execution_count": 5,
   "metadata": {},
   "outputs": [
    {
     "data": {
      "text/plain": [
       "array([nan,\n",
       "       'Mozilla/5.0 (Macintosh; Intel Mac OS X 10_11_2) AppleWebKit/537.36 (KHTML, like Gecko) Chrome/52.0.2743.24 Safari/537.36',\n",
       "       nan, ...,\n",
       "       'Mozilla/5.0 (Windows NT 10.0; Win64; x64) AppleWebKit/537.36 (KHTML, like Gecko) Chrome/55.0.2883.87 Safari/537.36',\n",
       "       'Mozilla/5.0 (Macintosh; Intel Mac OS X 10_11_4) AppleWebKit/537.36 (KHTML, like Gecko) Chrome/55.0.2883.95 Safari/537.36',\n",
       "       'Mozilla/5.0 (Windows NT 10.0; WOW64) AppleWebKit/537.36 (KHTML, like Gecko) Chrome/55.0.2883.87 Safari/537.36'],\n",
       "      dtype=object)"
      ]
     },
     "execution_count": 5,
     "metadata": {},
     "output_type": "execute_result"
    }
   ],
   "source": [
    "interactions_df['userAgent'].values"
   ]
  },
  {
   "cell_type": "code",
   "execution_count": 6,
   "metadata": {},
   "outputs": [
    {
     "name": "stdout",
     "output_type": "stream",
     "text": [
      "# of interactions (total): \t72312\n",
      "# of interactions (Android native app): \t6761\n",
      "# of interactions (iOS native app): \t103\n"
     ]
    }
   ],
   "source": [
    "total_count = len(interactions_df)\n",
    "android_count = len(interactions_df[interactions_df['userAgent'] == 'Android - Native Mobile App'])\n",
    "ios_count = len(interactions_df[interactions_df['userAgent'] == 'iOS - Native Mobile App'])\n",
    "print('# of interactions (total): \\t%d' % total_count)\n",
    "print('# of interactions (Android native app): \\t%d' % android_count)\n",
    "print('# of interactions (iOS native app): \\t%d' % ios_count)"
   ]
  },
  {
   "cell_type": "code",
   "execution_count": 7,
   "metadata": {},
   "outputs": [],
   "source": [
    "import nltk\n",
    "# from konlpy.tag import Komoran, Kkma;\n",
    "# kkma = Kkma()\n",
    "# Komoran = Komoran()\n",
    "\n",
    "def count_keywords(corpus_list):\n",
    "    vocab = nltk.Text(corpus_list, name='text').vocab()\n",
    "    vocab_common = vocab.most_common(len(vocab))\n",
    "    return vocab_common"
   ]
  },
  {
   "cell_type": "code",
   "execution_count": 8,
   "metadata": {},
   "outputs": [
    {
     "data": {
      "text/plain": [
       "[(nan, 15394),\n",
       " ('Android - Native Mobile App', 6761),\n",
       " ('Mozilla/5.0 (Windows NT 10.0; WOW64) AppleWebKit/537.36 (KHTML, like Gecko) Chrome/51.0.2704.103 Safari/537.36',\n",
       "  1823),\n",
       " ('Mozilla/5.0 (Windows NT 10.0; WOW64) AppleWebKit/537.36 (KHTML, like Gecko) Chrome/52.0.2743.116 Safari/537.36',\n",
       "  1146),\n",
       " ('Mozilla/5.0 (X11; Linux x86_64) AppleWebKit/537.36 (KHTML, like Gecko) Chrome/52.0.2743.116 Safari/537.36',\n",
       "  1076),\n",
       " ('Mozilla/5.0 (Windows NT 6.1; WOW64) AppleWebKit/537.36 (KHTML, like Gecko) Chrome/51.0.2704.103 Safari/537.36',\n",
       "  1059),\n",
       " ('Mozilla/5.0 (X11; Linux x86_64) AppleWebKit/537.36 (KHTML, like Gecko) Chrome/51.0.2704.106 Safari/537.36',\n",
       "  1011),\n",
       " ('Mozilla/5.0 (Macintosh; Intel Mac OS X 10_11_5) AppleWebKit/537.36 (KHTML, like Gecko) Chrome/51.0.2704.103 Safari/537.36',\n",
       "  885),\n",
       " ('Mozilla/5.0 (Windows NT 10.0; WOW64) AppleWebKit/537.36 (KHTML, like Gecko) Chrome/50.0.2661.102 Safari/537.36',\n",
       "  859),\n",
       " ('Mozilla/5.0 (X11; Linux x86_64) AppleWebKit/537.36 (KHTML, like Gecko) Chrome/52.0.2743.82 Safari/537.36',\n",
       "  844)]"
      ]
     },
     "execution_count": 8,
     "metadata": {},
     "output_type": "execute_result"
    }
   ],
   "source": [
    "count_keywords(interactions_df['userAgent'])[:10]"
   ]
  },
  {
   "cell_type": "code",
   "execution_count": 9,
   "metadata": {},
   "outputs": [
    {
     "data": {
      "text/plain": [
       "userAgent\n",
       "Android - Native Mobile App                                                                                                                                     6761\n",
       "Mozilla/5.0 (Windows NT 10.0; WOW64) AppleWebKit/537.36 (KHTML, like Gecko) Chrome/51.0.2704.103 Safari/537.36                                                  1823\n",
       "Mozilla/5.0 (Windows NT 10.0; WOW64) AppleWebKit/537.36 (KHTML, like Gecko) Chrome/52.0.2743.116 Safari/537.36                                                  1146\n",
       "Mozilla/5.0 (X11; Linux x86_64) AppleWebKit/537.36 (KHTML, like Gecko) Chrome/52.0.2743.116 Safari/537.36                                                       1076\n",
       "Mozilla/5.0 (Windows NT 6.1; WOW64) AppleWebKit/537.36 (KHTML, like Gecko) Chrome/51.0.2704.103 Safari/537.36                                                   1059\n",
       "                                                                                                                                                                ... \n",
       "Mozilla/5.0 (X11; CrOS x86_64 9000.82.0) AppleWebKit/537.36 (KHTML, like Gecko) Chrome/56.0.2924.87 Safari/537.36                                                  1\n",
       "Mozilla/5.0 (iPad; CPU OS 10_0_2 like Mac OS X) AppleWebKit/602.1.50 (KHTML, like Gecko) Version/10.0 Mobile/14A456 Safari/602.1                                   1\n",
       "Mozilla/5.0 (Windows NT 6.1; rv:46.0) Gecko/20100101 Firefox/46.0                                                                                                  1\n",
       "Mozilla/5.0 (X11; Fedora; Linux x86_64) AppleWebKit/537.36 (KHTML, like Gecko) Chrome/49.0.2623.75 Safari/537.36                                                   1\n",
       "Mozilla/5.0 (Macintosh; Intel Mac OS X 10_11_5) AppleWebKit/537.36 (KHTML, like Gecko) SmartCanvas/0.10.0 Chrome/47.0.2526.110 Electron/0.36.9 Safari/537.36       1\n",
       "Length: 1090, dtype: int64"
      ]
     },
     "execution_count": 9,
     "metadata": {},
     "output_type": "execute_result"
    }
   ],
   "source": [
    "# 혹은 다른 방법\n",
    "interactions_df.groupby('userAgent').size().sort_values(ascending=False)"
   ]
  },
  {
   "cell_type": "code",
   "execution_count": 10,
   "metadata": {},
   "outputs": [
    {
     "data": {
      "text/plain": [
       "Index(['timestamp', 'eventType', 'contentId', 'personId', 'sessionId',\n",
       "       'userAgent', 'userRegion', 'userCountry'],\n",
       "      dtype='object')"
      ]
     },
     "execution_count": 10,
     "metadata": {},
     "output_type": "execute_result"
    }
   ],
   "source": [
    "interactions_df.columns"
   ]
  },
  {
   "cell_type": "code",
   "execution_count": 11,
   "metadata": {},
   "outputs": [
    {
     "data": {
      "text/plain": [
       "[('VIEW', 61086),\n",
       " ('LIKE', 5745),\n",
       " ('BOOKMARK', 2463),\n",
       " ('COMMENT CREATED', 1611),\n",
       " ('FOLLOW', 1407)]"
      ]
     },
     "execution_count": 11,
     "metadata": {},
     "output_type": "execute_result"
    }
   ],
   "source": [
    "count_keywords(interactions_df['eventType'])"
   ]
  },
  {
   "cell_type": "code",
   "execution_count": 12,
   "metadata": {},
   "outputs": [
    {
     "data": {
      "text/plain": [
       "eventType\n",
       "VIEW               61086\n",
       "LIKE                5745\n",
       "BOOKMARK            2463\n",
       "COMMENT CREATED     1611\n",
       "FOLLOW              1407\n",
       "dtype: int64"
      ]
     },
     "execution_count": 12,
     "metadata": {},
     "output_type": "execute_result"
    }
   ],
   "source": [
    "interactions_df.groupby('eventType').size().sort_values(ascending=False)"
   ]
  },
  {
   "cell_type": "code",
   "execution_count": 13,
   "metadata": {},
   "outputs": [
    {
     "name": "stdout",
     "output_type": "stream",
     "text": [
      "<class 'list'>\n",
      "<class 'pandas.core.series.Series'>\n"
     ]
    }
   ],
   "source": [
    "print(type(count_keywords(interactions_df['eventType'])))\n",
    "print(type(interactions_df.groupby('eventType').size().sort_values(ascending=False)))"
   ]
  },
  {
   "cell_type": "code",
   "execution_count": 14,
   "metadata": {},
   "outputs": [
    {
     "data": {
      "text/plain": [
       "[('SP', 40164), (nan, 15405), ('MG', 10229), ('NY', 1257), ('TX', 923)]"
      ]
     },
     "execution_count": 14,
     "metadata": {},
     "output_type": "execute_result"
    }
   ],
   "source": [
    "count_keywords(interactions_df['userRegion'])[:5]"
   ]
  },
  {
   "cell_type": "code",
   "execution_count": 15,
   "metadata": {},
   "outputs": [
    {
     "data": {
      "text/html": [
       "<div>\n",
       "<style scoped>\n",
       "    .dataframe tbody tr th:only-of-type {\n",
       "        vertical-align: middle;\n",
       "    }\n",
       "\n",
       "    .dataframe tbody tr th {\n",
       "        vertical-align: top;\n",
       "    }\n",
       "\n",
       "    .dataframe thead th {\n",
       "        text-align: right;\n",
       "    }\n",
       "</style>\n",
       "<table border=\"1\" class=\"dataframe\">\n",
       "  <thead>\n",
       "    <tr style=\"text-align: right;\">\n",
       "      <th></th>\n",
       "      <th>timestamp</th>\n",
       "      <th>eventType</th>\n",
       "      <th>contentId</th>\n",
       "      <th>personId</th>\n",
       "      <th>sessionId</th>\n",
       "      <th>userAgent</th>\n",
       "      <th>userRegion</th>\n",
       "      <th>userCountry</th>\n",
       "    </tr>\n",
       "  </thead>\n",
       "  <tbody>\n",
       "    <tr>\n",
       "      <th>0</th>\n",
       "      <td>1465413032</td>\n",
       "      <td>VIEW</td>\n",
       "      <td>-3499919498720038879</td>\n",
       "      <td>-8845298781299428018</td>\n",
       "      <td>1264196770339959068</td>\n",
       "      <td>NaN</td>\n",
       "      <td>NaN</td>\n",
       "      <td>NaN</td>\n",
       "    </tr>\n",
       "    <tr>\n",
       "      <th>1</th>\n",
       "      <td>1465412560</td>\n",
       "      <td>VIEW</td>\n",
       "      <td>8890720798209849691</td>\n",
       "      <td>-1032019229384696495</td>\n",
       "      <td>3621737643587579081</td>\n",
       "      <td>Mozilla/5.0 (Macintosh; Intel Mac OS X 10_11_2...</td>\n",
       "      <td>NY</td>\n",
       "      <td>US</td>\n",
       "    </tr>\n",
       "    <tr>\n",
       "      <th>2</th>\n",
       "      <td>1465416190</td>\n",
       "      <td>VIEW</td>\n",
       "      <td>310515487419366995</td>\n",
       "      <td>-1130272294246983140</td>\n",
       "      <td>2631864456530402479</td>\n",
       "      <td>NaN</td>\n",
       "      <td>NaN</td>\n",
       "      <td>NaN</td>\n",
       "    </tr>\n",
       "  </tbody>\n",
       "</table>\n",
       "</div>"
      ],
      "text/plain": [
       "    timestamp eventType            contentId             personId  \\\n",
       "0  1465413032      VIEW -3499919498720038879 -8845298781299428018   \n",
       "1  1465412560      VIEW  8890720798209849691 -1032019229384696495   \n",
       "2  1465416190      VIEW   310515487419366995 -1130272294246983140   \n",
       "\n",
       "             sessionId                                          userAgent  \\\n",
       "0  1264196770339959068                                                NaN   \n",
       "1  3621737643587579081  Mozilla/5.0 (Macintosh; Intel Mac OS X 10_11_2...   \n",
       "2  2631864456530402479                                                NaN   \n",
       "\n",
       "  userRegion userCountry  \n",
       "0        NaN         NaN  \n",
       "1         NY          US  \n",
       "2        NaN         NaN  "
      ]
     },
     "execution_count": 15,
     "metadata": {},
     "output_type": "execute_result"
    }
   ],
   "source": [
    "interactions_df[:3]"
   ]
  },
  {
   "cell_type": "code",
   "execution_count": 16,
   "metadata": {},
   "outputs": [
    {
     "data": {
      "text/plain": [
       "<AxesSubplot:title={'center':'# interactions by month'}, xlabel='month'>"
      ]
     },
     "execution_count": 16,
     "metadata": {},
     "output_type": "execute_result"
    },
    {
     "data": {
      "image/png": "[encoded data removed]",
      "text/plain": [
       "<Figure size 432x288 with 1 Axes>"
      ]
     },
     "metadata": {
      "needs_background": "light"
     },
     "output_type": "display_data"
    }
   ],
   "source": [
    "interactions_df['datetime'] = interactions_df['timestamp'].apply(lambda x: to_datetime(x))\n",
    "interactions_df['month'] = interactions_df['datetime'].apply(lambda x: '{0}-{1:02}'.format(x.year, x.month))\n",
    "interactions_df.groupby('month').size().plot(kind='bar', title='# interactions by month')"
   ]
  },
  {
   "cell_type": "markdown",
   "metadata": {},
   "source": [
    "__이벤트 타입__\n",
    "\n",
    "- VIEW: The user has opened the article.\n",
    "- LIKE: The user has liked the article.\n",
    "- COMMENT CREATED: The user created a comment in the article.\n",
    "- FOLLOW: The user chose to be notified on any new comment in the article.\n",
    "- BOOKMARK: The user has bookmarked the article for easy return in the future."
   ]
  },
  {
   "cell_type": "code",
   "execution_count": 17,
   "metadata": {},
   "outputs": [
    {
     "data": {
      "text/plain": [
       "eventType\n",
       "VIEW               61086\n",
       "LIKE                5745\n",
       "BOOKMARK            2463\n",
       "COMMENT CREATED     1611\n",
       "FOLLOW              1407\n",
       "dtype: int64"
      ]
     },
     "execution_count": 17,
     "metadata": {},
     "output_type": "execute_result"
    }
   ],
   "source": [
    "interactions_df.groupby('eventType').size().sort_values(ascending=False)"
   ]
  },
  {
   "cell_type": "code",
   "execution_count": 18,
   "metadata": {},
   "outputs": [
    {
     "name": "stdout",
     "output_type": "stream",
     "text": [
      "Distinct articles: \t2987\n",
      "Distinct users: \t1895\n",
      "Distinct user sessions: \t28740\n"
     ]
    }
   ],
   "source": [
    "print('Distinct articles: \\t%d' % len(interactions_df['contentId'].unique()))\n",
    "print('Distinct users: \\t%d' % len(interactions_df['personId'].unique()))\n",
    "print('Distinct user sessions: \\t%d' % len(interactions_df['sessionId'].unique()))"
   ]
  },
  {
   "cell_type": "markdown",
   "metadata": {},
   "source": [
    "The analysis of how many articles (items) a user has interacted with is important for recommender systems. Higher number of items consumed by users provides better modeling of users preference.\n",
    "\n",
    "__We can observe that 50% of the users have interacted with 10 or more articles, making this dataset very suitable for collaborative filtering or content-based filtering methods.__"
   ]
  },
  {
   "cell_type": "code",
   "execution_count": 19,
   "metadata": {},
   "outputs": [
    {
     "data": {
      "text/plain": [
       "Index(['timestamp', 'eventType', 'contentId', 'personId', 'sessionId',\n",
       "       'userAgent', 'userRegion', 'userCountry', 'datetime', 'month'],\n",
       "      dtype='object')"
      ]
     },
     "execution_count": 19,
     "metadata": {},
     "output_type": "execute_result"
    }
   ],
   "source": [
    "interactions_df.columns"
   ]
  },
  {
   "cell_type": "code",
   "execution_count": 20,
   "metadata": {},
   "outputs": [
    {
     "data": {
      "text/plain": [
       "count    1895.000000\n",
       "mean       38.159367\n",
       "std       104.143355\n",
       "min         1.000000\n",
       "25%         3.000000\n",
       "50%        10.000000\n",
       "75%        32.000000\n",
       "max      1885.000000\n",
       "Name: contentId, dtype: float64"
      ]
     },
     "execution_count": 20,
     "metadata": {},
     "output_type": "execute_result"
    }
   ],
   "source": [
    "interactions_df.groupby('personId')['contentId'].size().describe()"
   ]
  },
  {
   "cell_type": "code",
   "execution_count": 21,
   "metadata": {},
   "outputs": [
    {
     "data": {
      "text/plain": [
       "personId\n",
       "-9223121837663643404     63\n",
       "-9212075797126931087      9\n",
       "-9207251133131336884     14\n",
       "-9199575329909162940     15\n",
       "-9196668942822132778     10\n",
       "                       ... \n",
       " 9165571805999894845      8\n",
       " 9187866633451383747     26\n",
       " 9191849144618614467     19\n",
       " 9199170757466086545     26\n",
       " 9210530975708218054    135\n",
       "Name: contentId, Length: 1895, dtype: int64"
      ]
     },
     "execution_count": 21,
     "metadata": {},
     "output_type": "execute_result"
    }
   ],
   "source": [
    "interactions_df.groupby('personId')['contentId'].size()"
   ]
  },
  {
   "cell_type": "code",
   "execution_count": 22,
   "metadata": {},
   "outputs": [
    {
     "data": {
      "text/plain": [
       "<AxesSubplot:>"
      ]
     },
     "execution_count": 22,
     "metadata": {},
     "output_type": "execute_result"
    },
    {
     "data": {
      "image/png": "[encoded data removed]",
      "text/plain": [
       "<Figure size 1080x360 with 1 Axes>"
      ]
     },
     "metadata": {
      "needs_background": "light"
     },
     "output_type": "display_data"
    }
   ],
   "source": [
    "interactions_df.groupby('personId')['contentId'].size().hist(bins=200, figsize=(15, 5))"
   ]
  },
  {
   "cell_type": "code",
   "execution_count": 23,
   "metadata": {},
   "outputs": [
    {
     "data": {
      "text/plain": [
       "userCountry\n",
       "BR    51396\n",
       "US     4657\n",
       "KR      239\n",
       "CA      226\n",
       "JP      144\n",
       "AU      138\n",
       "GB       22\n",
       "DE       19\n",
       "IE       14\n",
       "IS       13\n",
       "ZZ       11\n",
       "SG       11\n",
       "AR        7\n",
       "PT        6\n",
       "IN        3\n",
       "ES        3\n",
       "IT        2\n",
       "MY        2\n",
       "CO        1\n",
       "CN        1\n",
       "CL        1\n",
       "CH        1\n",
       "NL        1\n",
       "dtype: int64"
      ]
     },
     "execution_count": 23,
     "metadata": {},
     "output_type": "execute_result"
    }
   ],
   "source": [
    "interactions_df.groupby('userCountry').size().sort_values(ascending=False)"
   ]
  },
  {
   "cell_type": "code",
   "execution_count": 24,
   "metadata": {},
   "outputs": [
    {
     "data": {
      "text/html": [
       "<div>\n",
       "<style scoped>\n",
       "    .dataframe tbody tr th:only-of-type {\n",
       "        vertical-align: middle;\n",
       "    }\n",
       "\n",
       "    .dataframe tbody tr th {\n",
       "        vertical-align: top;\n",
       "    }\n",
       "\n",
       "    .dataframe thead th {\n",
       "        text-align: right;\n",
       "    }\n",
       "</style>\n",
       "<table border=\"1\" class=\"dataframe\">\n",
       "  <thead>\n",
       "    <tr style=\"text-align: right;\">\n",
       "      <th></th>\n",
       "      <th>userCountry</th>\n",
       "      <th>countryName</th>\n",
       "    </tr>\n",
       "  </thead>\n",
       "  <tbody>\n",
       "    <tr>\n",
       "      <th>0</th>\n",
       "      <td>NaN</td>\n",
       "      <td>None</td>\n",
       "    </tr>\n",
       "    <tr>\n",
       "      <th>1</th>\n",
       "      <td>US</td>\n",
       "      <td>United States</td>\n",
       "    </tr>\n",
       "    <tr>\n",
       "      <th>2</th>\n",
       "      <td>NaN</td>\n",
       "      <td>None</td>\n",
       "    </tr>\n",
       "    <tr>\n",
       "      <th>3</th>\n",
       "      <td>NaN</td>\n",
       "      <td>None</td>\n",
       "    </tr>\n",
       "    <tr>\n",
       "      <th>4</th>\n",
       "      <td>NaN</td>\n",
       "      <td>None</td>\n",
       "    </tr>\n",
       "    <tr>\n",
       "      <th>5</th>\n",
       "      <td>BR</td>\n",
       "      <td>Brazil</td>\n",
       "    </tr>\n",
       "    <tr>\n",
       "      <th>6</th>\n",
       "      <td>NaN</td>\n",
       "      <td>None</td>\n",
       "    </tr>\n",
       "    <tr>\n",
       "      <th>7</th>\n",
       "      <td>BR</td>\n",
       "      <td>Brazil</td>\n",
       "    </tr>\n",
       "    <tr>\n",
       "      <th>8</th>\n",
       "      <td>NaN</td>\n",
       "      <td>None</td>\n",
       "    </tr>\n",
       "    <tr>\n",
       "      <th>9</th>\n",
       "      <td>NaN</td>\n",
       "      <td>None</td>\n",
       "    </tr>\n",
       "  </tbody>\n",
       "</table>\n",
       "</div>"
      ],
      "text/plain": [
       "  userCountry    countryName\n",
       "0         NaN           None\n",
       "1          US  United States\n",
       "2         NaN           None\n",
       "3         NaN           None\n",
       "4         NaN           None\n",
       "5          BR         Brazil\n",
       "6         NaN           None\n",
       "7          BR         Brazil\n",
       "8         NaN           None\n",
       "9         NaN           None"
      ]
     },
     "execution_count": 24,
     "metadata": {},
     "output_type": "execute_result"
    }
   ],
   "source": [
    "country_code_dict = {\n",
    "    'BR': ('BRA', 'Brazil'),\n",
    "    'US': ('USA', 'United States'),\n",
    "    'KR': ('KOR', 'South Korea'),\n",
    "    'CA': ('CAN', 'Canada'),\n",
    "    'JP': ('JPN', 'Japan'),\n",
    "    'AU': ('AUS', 'Australia'),\n",
    "    'GB': ('GBR', 'United Kingdom'),\n",
    "    'DE': ('DEU', 'Germany'),\n",
    "    'DE': ('DEU', 'Germany'),\n",
    "    'IE': ('IRL', 'Ireland'),\n",
    "    'IS': ('ISL', 'Iceland'),\n",
    "    'SG': ('SGP', 'Singapure'),\n",
    "    'AR': ('ARG', 'Argentina'),\n",
    "    'PT': ('PRT', 'Portugal'),\n",
    "    'IN': ('IND', 'India'),\n",
    "    'ES': ('ESP', 'Spain'),\n",
    "    'IT': ('ITA', 'Italy'),\n",
    "    'MY': ('MYS', 'Malaysia'),\n",
    "    'CO': ('COL', 'Colombia'),\n",
    "    'CN': ('CHN', 'China'),\n",
    "    'CL': ('CHL', 'Chile'),\n",
    "    'NL': ('NLD', 'Netherlands')\n",
    "}\n",
    "\n",
    "interactions_df['countryName'] = interactions_df['userCountry'].apply(\n",
    "    lambda x: country_code_dict[x][1] if x in country_code_dict else None)\n",
    "interactions_df[['userCountry', 'countryName']].head(10)"
   ]
  },
  {
   "cell_type": "code",
   "execution_count": 25,
   "metadata": {},
   "outputs": [
    {
     "data": {
      "text/html": [
       "<div>\n",
       "<style scoped>\n",
       "    .dataframe tbody tr th:only-of-type {\n",
       "        vertical-align: middle;\n",
       "    }\n",
       "\n",
       "    .dataframe tbody tr th {\n",
       "        vertical-align: top;\n",
       "    }\n",
       "\n",
       "    .dataframe thead th {\n",
       "        text-align: right;\n",
       "    }\n",
       "</style>\n",
       "<table border=\"1\" class=\"dataframe\">\n",
       "  <thead>\n",
       "    <tr style=\"text-align: right;\">\n",
       "      <th></th>\n",
       "      <th>country</th>\n",
       "      <th>count</th>\n",
       "    </tr>\n",
       "  </thead>\n",
       "  <tbody>\n",
       "    <tr>\n",
       "      <th>0</th>\n",
       "      <td>Brazil</td>\n",
       "      <td>51396</td>\n",
       "    </tr>\n",
       "    <tr>\n",
       "      <th>1</th>\n",
       "      <td>United States</td>\n",
       "      <td>4657</td>\n",
       "    </tr>\n",
       "    <tr>\n",
       "      <th>2</th>\n",
       "      <td>South Korea</td>\n",
       "      <td>239</td>\n",
       "    </tr>\n",
       "    <tr>\n",
       "      <th>3</th>\n",
       "      <td>Canada</td>\n",
       "      <td>226</td>\n",
       "    </tr>\n",
       "    <tr>\n",
       "      <th>4</th>\n",
       "      <td>Japan</td>\n",
       "      <td>144</td>\n",
       "    </tr>\n",
       "    <tr>\n",
       "      <th>5</th>\n",
       "      <td>Australia</td>\n",
       "      <td>138</td>\n",
       "    </tr>\n",
       "    <tr>\n",
       "      <th>6</th>\n",
       "      <td>United Kingdom</td>\n",
       "      <td>22</td>\n",
       "    </tr>\n",
       "    <tr>\n",
       "      <th>7</th>\n",
       "      <td>Germany</td>\n",
       "      <td>19</td>\n",
       "    </tr>\n",
       "    <tr>\n",
       "      <th>8</th>\n",
       "      <td>Ireland</td>\n",
       "      <td>14</td>\n",
       "    </tr>\n",
       "    <tr>\n",
       "      <th>9</th>\n",
       "      <td>Iceland</td>\n",
       "      <td>13</td>\n",
       "    </tr>\n",
       "    <tr>\n",
       "      <th>10</th>\n",
       "      <td>Singapure</td>\n",
       "      <td>11</td>\n",
       "    </tr>\n",
       "    <tr>\n",
       "      <th>11</th>\n",
       "      <td>Argentina</td>\n",
       "      <td>7</td>\n",
       "    </tr>\n",
       "    <tr>\n",
       "      <th>12</th>\n",
       "      <td>Portugal</td>\n",
       "      <td>6</td>\n",
       "    </tr>\n",
       "    <tr>\n",
       "      <th>13</th>\n",
       "      <td>India</td>\n",
       "      <td>3</td>\n",
       "    </tr>\n",
       "    <tr>\n",
       "      <th>14</th>\n",
       "      <td>Spain</td>\n",
       "      <td>3</td>\n",
       "    </tr>\n",
       "    <tr>\n",
       "      <th>15</th>\n",
       "      <td>Italy</td>\n",
       "      <td>2</td>\n",
       "    </tr>\n",
       "    <tr>\n",
       "      <th>16</th>\n",
       "      <td>Malaysia</td>\n",
       "      <td>2</td>\n",
       "    </tr>\n",
       "    <tr>\n",
       "      <th>17</th>\n",
       "      <td>Netherlands</td>\n",
       "      <td>1</td>\n",
       "    </tr>\n",
       "    <tr>\n",
       "      <th>18</th>\n",
       "      <td>Colombia</td>\n",
       "      <td>1</td>\n",
       "    </tr>\n",
       "    <tr>\n",
       "      <th>19</th>\n",
       "      <td>China</td>\n",
       "      <td>1</td>\n",
       "    </tr>\n",
       "    <tr>\n",
       "      <th>20</th>\n",
       "      <td>Chile</td>\n",
       "      <td>1</td>\n",
       "    </tr>\n",
       "  </tbody>\n",
       "</table>\n",
       "</div>"
      ],
      "text/plain": [
       "           country  count\n",
       "0           Brazil  51396\n",
       "1    United States   4657\n",
       "2      South Korea    239\n",
       "3           Canada    226\n",
       "4            Japan    144\n",
       "5        Australia    138\n",
       "6   United Kingdom     22\n",
       "7          Germany     19\n",
       "8          Ireland     14\n",
       "9          Iceland     13\n",
       "10       Singapure     11\n",
       "11       Argentina      7\n",
       "12        Portugal      6\n",
       "13           India      3\n",
       "14           Spain      3\n",
       "15           Italy      2\n",
       "16        Malaysia      2\n",
       "17     Netherlands      1\n",
       "18        Colombia      1\n",
       "19           China      1\n",
       "20           Chile      1"
      ]
     },
     "execution_count": 25,
     "metadata": {},
     "output_type": "execute_result"
    }
   ],
   "source": [
    "interactions_by_country_df = pd.DataFrame(interactions_df.groupby('countryName').size() \\\n",
    "                                         .sort_values(ascending=False).reset_index())\n",
    "interactions_by_country_df.columns = ['country', 'count']\n",
    "interactions_by_country_df"
   ]
  },
  {
   "cell_type": "code",
   "execution_count": null,
   "metadata": {},
   "outputs": [],
   "source": [
    "import plotly.offline as py\n",
    "py.offline.init_notebook_mode()\n",
    "\n",
    "data = [ dict(\n",
    "        type = 'choropleth',\n",
    "        locations = interactions_by_country_df['country'],\n",
    "        z = interactions_by_country_df['count'],\n",
    "        locationmode = 'country names',\n",
    "        text = interactions_by_country_df['country'],\n",
    "        colorscale = [[0,\"rgb(153, 241, 243)\"],[0.005,\"rgb(16, 64, 143)\"],[1,\"rgb(0, 0, 0)\"]],\n",
    "        autocolorscale = False,\n",
    "        marker = dict(\n",
    "            line = dict(color = 'rgb(58,100,69)', width = 0.6)),\n",
    "            colorbar = dict(autotick = True, tickprefix = '', title = '# of Interactions')\n",
    "            )\n",
    "       ]\n",
    "\n",
    "layout = dict(\n",
    "    title = 'Total number of interactions by country',\n",
    "    geo = dict(\n",
    "        showframe = False,\n",
    "        showcoastlines = True,\n",
    "        projection = dict(\n",
    "        type = 'equirectangular'\n",
    "        ),\n",
    "    margin = dict(b = 0, t = 0, l = 0, r = 0)\n",
    "            )\n",
    "    )\n",
    "\n",
    "fig = dict(data=data, layout=layout)\n",
    "py.iplot(fig, validate=False, filename='worldmap')"
   ]
  },
  {
   "cell_type": "code",
   "execution_count": 30,
   "metadata": {},
   "outputs": [
    {
     "data": {
      "text/plain": [
       "userCountryRegion\n",
       "BR-SP    40164\n",
       "BR-MG    10229\n",
       "US-NY     1257\n",
       "US-TX      923\n",
       "US-GA      910\n",
       "BR-RJ      775\n",
       "US-NJ      698\n",
       "US-CA      238\n",
       "CA-ON      202\n",
       "KR-?       165\n",
       "dtype: int64"
      ]
     },
     "execution_count": 30,
     "metadata": {},
     "output_type": "execute_result"
    }
   ],
   "source": [
    "interactions_df['userCountryRegion'] = interactions_df['userCountry'] + '-' + interactions_df['userRegion']\n",
    "interactions_df.groupby('userCountryRegion').size().sort_values(ascending=False).head(10)"
   ]
  },
  {
   "cell_type": "markdown",
   "metadata": {},
   "source": [
    "### __Shared articles__\n",
    "\n",
    "this section analyzes the articles shared in the platform"
   ]
  },
  {
   "cell_type": "code",
   "execution_count": 32,
   "metadata": {},
   "outputs": [
    {
     "data": {
      "text/html": [
       "<div>\n",
       "<style scoped>\n",
       "    .dataframe tbody tr th:only-of-type {\n",
       "        vertical-align: middle;\n",
       "    }\n",
       "\n",
       "    .dataframe tbody tr th {\n",
       "        vertical-align: top;\n",
       "    }\n",
       "\n",
       "    .dataframe thead th {\n",
       "        text-align: right;\n",
       "    }\n",
       "</style>\n",
       "<table border=\"1\" class=\"dataframe\">\n",
       "  <thead>\n",
       "    <tr style=\"text-align: right;\">\n",
       "      <th></th>\n",
       "      <th>timestamp</th>\n",
       "      <th>eventType</th>\n",
       "      <th>contentId</th>\n",
       "      <th>authorPersonId</th>\n",
       "      <th>authorSessionId</th>\n",
       "      <th>authorUserAgent</th>\n",
       "      <th>authorRegion</th>\n",
       "      <th>authorCountry</th>\n",
       "      <th>contentType</th>\n",
       "      <th>url</th>\n",
       "      <th>title</th>\n",
       "      <th>text</th>\n",
       "      <th>lang</th>\n",
       "    </tr>\n",
       "  </thead>\n",
       "  <tbody>\n",
       "    <tr>\n",
       "      <th>0</th>\n",
       "      <td>1459192779</td>\n",
       "      <td>CONTENT REMOVED</td>\n",
       "      <td>-6451309518266745024</td>\n",
       "      <td>4340306774493623681</td>\n",
       "      <td>8940341205206233829</td>\n",
       "      <td>NaN</td>\n",
       "      <td>NaN</td>\n",
       "      <td>NaN</td>\n",
       "      <td>HTML</td>\n",
       "      <td>http://www.nytimes.com/2016/03/28/business/dea...</td>\n",
       "      <td>Ethereum, a Virtual Currency, Enables Transact...</td>\n",
       "      <td>All of this work is still very early. The firs...</td>\n",
       "      <td>en</td>\n",
       "    </tr>\n",
       "    <tr>\n",
       "      <th>1</th>\n",
       "      <td>1459193988</td>\n",
       "      <td>CONTENT SHARED</td>\n",
       "      <td>-4110354420726924665</td>\n",
       "      <td>4340306774493623681</td>\n",
       "      <td>8940341205206233829</td>\n",
       "      <td>NaN</td>\n",
       "      <td>NaN</td>\n",
       "      <td>NaN</td>\n",
       "      <td>HTML</td>\n",
       "      <td>http://www.nytimes.com/2016/03/28/business/dea...</td>\n",
       "      <td>Ethereum, a Virtual Currency, Enables Transact...</td>\n",
       "      <td>All of this work is still very early. The firs...</td>\n",
       "      <td>en</td>\n",
       "    </tr>\n",
       "    <tr>\n",
       "      <th>2</th>\n",
       "      <td>1459194146</td>\n",
       "      <td>CONTENT SHARED</td>\n",
       "      <td>-7292285110016212249</td>\n",
       "      <td>4340306774493623681</td>\n",
       "      <td>8940341205206233829</td>\n",
       "      <td>NaN</td>\n",
       "      <td>NaN</td>\n",
       "      <td>NaN</td>\n",
       "      <td>HTML</td>\n",
       "      <td>http://cointelegraph.com/news/bitcoin-future-w...</td>\n",
       "      <td>Bitcoin Future: When GBPcoin of Branson Wins O...</td>\n",
       "      <td>The alarm clock wakes me at 8:00 with stream o...</td>\n",
       "      <td>en</td>\n",
       "    </tr>\n",
       "    <tr>\n",
       "      <th>3</th>\n",
       "      <td>1459194474</td>\n",
       "      <td>CONTENT SHARED</td>\n",
       "      <td>-6151852268067518688</td>\n",
       "      <td>3891637997717104548</td>\n",
       "      <td>-1457532940883382585</td>\n",
       "      <td>NaN</td>\n",
       "      <td>NaN</td>\n",
       "      <td>NaN</td>\n",
       "      <td>HTML</td>\n",
       "      <td>https://cloudplatform.googleblog.com/2016/03/G...</td>\n",
       "      <td>Google Data Center 360° Tour</td>\n",
       "      <td>We're excited to share the Google Data Center ...</td>\n",
       "      <td>en</td>\n",
       "    </tr>\n",
       "    <tr>\n",
       "      <th>4</th>\n",
       "      <td>1459194497</td>\n",
       "      <td>CONTENT SHARED</td>\n",
       "      <td>2448026894306402386</td>\n",
       "      <td>4340306774493623681</td>\n",
       "      <td>8940341205206233829</td>\n",
       "      <td>NaN</td>\n",
       "      <td>NaN</td>\n",
       "      <td>NaN</td>\n",
       "      <td>HTML</td>\n",
       "      <td>https://bitcoinmagazine.com/articles/ibm-wants...</td>\n",
       "      <td>IBM Wants to \"Evolve the Internet\" With Blockc...</td>\n",
       "      <td>The Aite Group projects the blockchain market ...</td>\n",
       "      <td>en</td>\n",
       "    </tr>\n",
       "  </tbody>\n",
       "</table>\n",
       "</div>"
      ],
      "text/plain": [
       "    timestamp        eventType            contentId       authorPersonId  \\\n",
       "0  1459192779  CONTENT REMOVED -6451309518266745024  4340306774493623681   \n",
       "1  1459193988   CONTENT SHARED -4110354420726924665  4340306774493623681   \n",
       "2  1459194146   CONTENT SHARED -7292285110016212249  4340306774493623681   \n",
       "3  1459194474   CONTENT SHARED -6151852268067518688  3891637997717104548   \n",
       "4  1459194497   CONTENT SHARED  2448026894306402386  4340306774493623681   \n",
       "\n",
       "       authorSessionId authorUserAgent authorRegion authorCountry contentType  \\\n",
       "0  8940341205206233829             NaN          NaN           NaN        HTML   \n",
       "1  8940341205206233829             NaN          NaN           NaN        HTML   \n",
       "2  8940341205206233829             NaN          NaN           NaN        HTML   \n",
       "3 -1457532940883382585             NaN          NaN           NaN        HTML   \n",
       "4  8940341205206233829             NaN          NaN           NaN        HTML   \n",
       "\n",
       "                                                 url  \\\n",
       "0  http://www.nytimes.com/2016/03/28/business/dea...   \n",
       "1  http://www.nytimes.com/2016/03/28/business/dea...   \n",
       "2  http://cointelegraph.com/news/bitcoin-future-w...   \n",
       "3  https://cloudplatform.googleblog.com/2016/03/G...   \n",
       "4  https://bitcoinmagazine.com/articles/ibm-wants...   \n",
       "\n",
       "                                               title  \\\n",
       "0  Ethereum, a Virtual Currency, Enables Transact...   \n",
       "1  Ethereum, a Virtual Currency, Enables Transact...   \n",
       "2  Bitcoin Future: When GBPcoin of Branson Wins O...   \n",
       "3                       Google Data Center 360° Tour   \n",
       "4  IBM Wants to \"Evolve the Internet\" With Blockc...   \n",
       "\n",
       "                                                text lang  \n",
       "0  All of this work is still very early. The firs...   en  \n",
       "1  All of this work is still very early. The firs...   en  \n",
       "2  The alarm clock wakes me at 8:00 with stream o...   en  \n",
       "3  We're excited to share the Google Data Center ...   en  \n",
       "4  The Aite Group projects the blockchain market ...   en  "
      ]
     },
     "execution_count": 32,
     "metadata": {},
     "output_type": "execute_result"
    }
   ],
   "source": [
    "articles_df = pd.read_csv('./input/shared_articles.csv')\n",
    "articles_df.head()"
   ]
  },
  {
   "cell_type": "code",
   "execution_count": 33,
   "metadata": {},
   "outputs": [
    {
     "name": "stdout",
     "output_type": "stream",
     "text": [
      "<class 'pandas.core.frame.DataFrame'>\n",
      "RangeIndex: 3122 entries, 0 to 3121\n",
      "Data columns (total 13 columns):\n",
      " #   Column           Non-Null Count  Dtype \n",
      "---  ------           --------------  ----- \n",
      " 0   timestamp        3122 non-null   int64 \n",
      " 1   eventType        3122 non-null   object\n",
      " 2   contentId        3122 non-null   int64 \n",
      " 3   authorPersonId   3122 non-null   int64 \n",
      " 4   authorSessionId  3122 non-null   int64 \n",
      " 5   authorUserAgent  680 non-null    object\n",
      " 6   authorRegion     680 non-null    object\n",
      " 7   authorCountry    680 non-null    object\n",
      " 8   contentType      3122 non-null   object\n",
      " 9   url              3122 non-null   object\n",
      " 10  title            3122 non-null   object\n",
      " 11  text             3122 non-null   object\n",
      " 12  lang             3122 non-null   object\n",
      "dtypes: int64(4), object(9)\n",
      "memory usage: 317.2+ KB\n"
     ]
    }
   ],
   "source": [
    "articles_df.info()"
   ]
  },
  {
   "cell_type": "code",
   "execution_count": 34,
   "metadata": {},
   "outputs": [
    {
     "data": {
      "text/plain": [
       "eventType\n",
       "CONTENT SHARED     3047\n",
       "CONTENT REMOVED      75\n",
       "dtype: int64"
      ]
     },
     "execution_count": 34,
     "metadata": {},
     "output_type": "execute_result"
    }
   ],
   "source": [
    "articles_df.groupby('eventType').size().sort_values(ascending=False)"
   ]
  },
  {
   "cell_type": "code",
   "execution_count": 35,
   "metadata": {},
   "outputs": [
    {
     "data": {
      "text/plain": [
       "title\n",
       "Preventing Software Bugs from Ever Occurring - Quality Functions                          8\n",
       "Fooling The Machine                                                                       7\n",
       "Dries Buytaert                                                                            5\n",
       "Vidente reflete sobre os desafios contemporâneos                                          4\n",
       "Adobe CQ/Adobe AEM                                                                        4\n",
       "                                                                                         ..\n",
       "Opening Up Data Science with data.world - Jono Bacon                                      1\n",
       "Opening Google Docs, Sheets, and Slides files on mobile now easier when you're offline    1\n",
       "OpenVpn rodando com Docker no Raspberry Pi                                                1\n",
       "OpenBazaar is Open for Business                                                           1\n",
       "\"\"Good Luck with That!\": Teaching Machines to Detect Sarcasm\" by Xinyi Ou                 1\n",
       "Length: 3011, dtype: int64"
      ]
     },
     "execution_count": 35,
     "metadata": {},
     "output_type": "execute_result"
    }
   ],
   "source": [
    "articles_df.groupby('title').size().sort_values(ascending=False)"
   ]
  },
  {
   "cell_type": "code",
   "execution_count": 38,
   "metadata": {},
   "outputs": [
    {
     "name": "stdout",
     "output_type": "stream",
     "text": [
      "First article sharing: \t2016-03-29 04:19:39\n",
      "Last article sharing: \t2017-03-01 03:51:11\n"
     ]
    }
   ],
   "source": [
    "print('First article sharing: \\t%s' % to_datetime(articles_df['timestamp'].min()))\n",
    "print('Last article sharing: \\t%s' % to_datetime(articles_df['timestamp'].max()))"
   ]
  },
  {
   "cell_type": "code",
   "execution_count": 40,
   "metadata": {},
   "outputs": [
    {
     "data": {
      "text/plain": [
       "Index(['timestamp', 'eventType', 'contentId', 'authorPersonId',\n",
       "       'authorSessionId', 'authorUserAgent', 'authorRegion', 'authorCountry',\n",
       "       'contentType', 'url', 'title', 'text', 'lang'],\n",
       "      dtype='object')"
      ]
     },
     "execution_count": 40,
     "metadata": {},
     "output_type": "execute_result"
    }
   ],
   "source": [
    "articles_df.columns"
   ]
  },
  {
   "cell_type": "code",
   "execution_count": 42,
   "metadata": {},
   "outputs": [
    {
     "data": {
      "text/plain": [
       "<AxesSubplot:title={'center':'# articles shared by month'}, xlabel='month'>"
      ]
     },
     "execution_count": 42,
     "metadata": {},
     "output_type": "execute_result"
    },
    {
     "data": {
      "image/png": "[encoded data removed]",
      "text/plain": [
       "<Figure size 432x288 with 1 Axes>"
      ]
     },
     "metadata": {
      "needs_background": "light"
     },
     "output_type": "display_data"
    }
   ],
   "source": [
    "articles_df['datetime'] = articles_df['timestamp'].apply(lambda x: to_datetime(x))\n",
    "articles_df['month'] = articles_df['datetime'].apply(lambda x: '{0}-{1:02}'.format(x.year, x.month))\n",
    "articles_df[articles_df['eventType'] == 'CONTENT SHARED'].groupby('month').size().plot(kind='bar', title='# articles shared by month')"
   ]
  },
  {
   "cell_type": "code",
   "execution_count": 43,
   "metadata": {},
   "outputs": [
    {
     "data": {
      "text/plain": [
       "eventType\n",
       "CONTENT SHARED     3047\n",
       "CONTENT REMOVED      75\n",
       "dtype: int64"
      ]
     },
     "execution_count": 43,
     "metadata": {},
     "output_type": "execute_result"
    }
   ],
   "source": [
    "articles_df.groupby('eventType').size().sort_values(ascending=False)"
   ]
  },
  {
   "cell_type": "code",
   "execution_count": 46,
   "metadata": {},
   "outputs": [
    {
     "name": "stdout",
     "output_type": "stream",
     "text": [
      "Distinct articles: \t3057\n",
      "Distinct sharers (users): \t252\n"
     ]
    }
   ],
   "source": [
    "print('Distinct articles: \\t%d' % len(articles_df['contentId'].unique()))\n",
    "print('Distinct sharers (users): \\t%d' % len(articles_df['authorPersonId'].unique()))"
   ]
  },
  {
   "cell_type": "code",
   "execution_count": 47,
   "metadata": {},
   "outputs": [
    {
     "data": {
      "text/plain": [
       "contentType\n",
       "HTML     3101\n",
       "VIDEO      11\n",
       "RICH       10\n",
       "dtype: int64"
      ]
     },
     "execution_count": 47,
     "metadata": {},
     "output_type": "execute_result"
    }
   ],
   "source": [
    "articles_df.groupby('contentType').size().sort_values(ascending=False)"
   ]
  },
  {
   "cell_type": "code",
   "execution_count": 49,
   "metadata": {},
   "outputs": [
    {
     "data": {
      "text/plain": [
       "lang\n",
       "en    2264\n",
       "pt     850\n",
       "la       4\n",
       "ja       2\n",
       "es       2\n",
       "dtype: int64"
      ]
     },
     "execution_count": 49,
     "metadata": {},
     "output_type": "execute_result"
    }
   ],
   "source": [
    "articles_df.groupby('lang').size().sort_values(ascending=False)"
   ]
  },
  {
   "cell_type": "code",
   "execution_count": 50,
   "metadata": {},
   "outputs": [
    {
     "data": {
      "text/plain": [
       "0       http://www.nytimes.com/2016/03/28/business/dea...\n",
       "1       http://www.nytimes.com/2016/03/28/business/dea...\n",
       "2       http://cointelegraph.com/news/bitcoin-future-w...\n",
       "3       https://cloudplatform.googleblog.com/2016/03/G...\n",
       "4       https://bitcoinmagazine.com/articles/ibm-wants...\n",
       "                              ...                        \n",
       "3117    https://startupi.com.br/2017/02/liga-ventures-...\n",
       "3118    https://thenextweb.com/apps/2017/02/14/amazon-...\n",
       "3119                          https://code.org/about/2016\n",
       "3120    https://www.bloomberg.com/news/articles/2017-0...\n",
       "3121    https://www.acquia.com/blog/partner/2017-acqui...\n",
       "Name: url, Length: 3122, dtype: object"
      ]
     },
     "execution_count": 50,
     "metadata": {},
     "output_type": "execute_result"
    }
   ],
   "source": [
    "articles_df['url']"
   ]
  },
  {
   "cell_type": "code",
   "execution_count": 51,
   "metadata": {},
   "outputs": [
    {
     "data": {
      "text/html": [
       "<div>\n",
       "<style scoped>\n",
       "    .dataframe tbody tr th:only-of-type {\n",
       "        vertical-align: middle;\n",
       "    }\n",
       "\n",
       "    .dataframe tbody tr th {\n",
       "        vertical-align: top;\n",
       "    }\n",
       "\n",
       "    .dataframe thead th {\n",
       "        text-align: right;\n",
       "    }\n",
       "</style>\n",
       "<table border=\"1\" class=\"dataframe\">\n",
       "  <thead>\n",
       "    <tr style=\"text-align: right;\">\n",
       "      <th></th>\n",
       "      <th>urlDomain</th>\n",
       "      <th>url</th>\n",
       "    </tr>\n",
       "  </thead>\n",
       "  <tbody>\n",
       "    <tr>\n",
       "      <th>0</th>\n",
       "      <td>www.nytimes.com</td>\n",
       "      <td>http://www.nytimes.com/2016/03/28/business/dea...</td>\n",
       "    </tr>\n",
       "    <tr>\n",
       "      <th>1</th>\n",
       "      <td>www.nytimes.com</td>\n",
       "      <td>http://www.nytimes.com/2016/03/28/business/dea...</td>\n",
       "    </tr>\n",
       "    <tr>\n",
       "      <th>2</th>\n",
       "      <td>cointelegraph.com</td>\n",
       "      <td>http://cointelegraph.com/news/bitcoin-future-w...</td>\n",
       "    </tr>\n",
       "    <tr>\n",
       "      <th>3</th>\n",
       "      <td>cloudplatform.googleblog.com</td>\n",
       "      <td>https://cloudplatform.googleblog.com/2016/03/G...</td>\n",
       "    </tr>\n",
       "    <tr>\n",
       "      <th>4</th>\n",
       "      <td>bitcoinmagazine.com</td>\n",
       "      <td>https://bitcoinmagazine.com/articles/ibm-wants...</td>\n",
       "    </tr>\n",
       "  </tbody>\n",
       "</table>\n",
       "</div>"
      ],
      "text/plain": [
       "                      urlDomain  \\\n",
       "0               www.nytimes.com   \n",
       "1               www.nytimes.com   \n",
       "2             cointelegraph.com   \n",
       "3  cloudplatform.googleblog.com   \n",
       "4           bitcoinmagazine.com   \n",
       "\n",
       "                                                 url  \n",
       "0  http://www.nytimes.com/2016/03/28/business/dea...  \n",
       "1  http://www.nytimes.com/2016/03/28/business/dea...  \n",
       "2  http://cointelegraph.com/news/bitcoin-future-w...  \n",
       "3  https://cloudplatform.googleblog.com/2016/03/G...  \n",
       "4  https://bitcoinmagazine.com/articles/ibm-wants...  "
      ]
     },
     "execution_count": 51,
     "metadata": {},
     "output_type": "execute_result"
    }
   ],
   "source": [
    "articles_df['urlDomain'] = articles_df['url'].apply(lambda x: re.sub(r'^http[s]*:\\/\\/', '', re.search(r'^http[s]*:\\/\\/[\\w\\.]*', x, re.IGNORECASE).group(0)))\n",
    "articles_df[['urlDomain', 'url']].head()"
   ]
  },
  {
   "cell_type": "code",
   "execution_count": 54,
   "metadata": {},
   "outputs": [
    {
     "data": {
      "text/plain": [
       "<AxesSubplot:title={'center':'Main domains on shared English articles'}, ylabel='urlDomain'>"
      ]
     },
     "execution_count": 54,
     "metadata": {},
     "output_type": "execute_result"
    },
    {
     "data": {
      "image/png": "[encoded data removed]",
      "text/plain": [
       "<Figure size 720x720 with 1 Axes>"
      ]
     },
     "metadata": {
      "needs_background": "light"
     },
     "output_type": "display_data"
    }
   ],
   "source": [
    "main_domains_df = pd.DataFrame(articles_df[articles_df['lang'] == 'en'].groupby('urlDomain').size().sort_values(ascending=True))[-20:].reset_index()\n",
    "main_domains_df.columns = ['urlDomain', 'count']\n",
    "main_domains_df.plot(kind='barh', x='urlDomain', y='count', figsize=(10, 10),\n",
    "                    title='Main domains on shared English articles')"
   ]
  }
 ],
 "metadata": {
  "kernelspec": {
   "display_name": "jipiration",
   "language": "python",
   "name": "jipiration"
  },
  "language_info": {
   "codemirror_mode": {
    "name": "ipython",
    "version": 3
   },
   "file_extension": ".py",
   "mimetype": "text/x-python",
   "name": "python",
   "nbconvert_exporter": "python",
   "pygments_lexer": "ipython3",
   "version": "3.7.5"
  }
 },
 "nbformat": 4,
 "nbformat_minor": 4
}
