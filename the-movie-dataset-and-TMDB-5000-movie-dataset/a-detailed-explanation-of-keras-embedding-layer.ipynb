{
 "cells": [
  {
   "cell_type": "markdown",
   "metadata": {},
   "source": [
    "## __A Detailed Guide to understand the Word Embeddings and Embedding Layer in Keras.__"
   ]
  },
  {
   "cell_type": "markdown",
   "metadata": {},
   "source": [
    "In this kernel I have explained the keras embedding layer. To do so I have created a sample corpus of just 3 documents and that should be sufficient to explain the working of the keras embedding layer.\n",
    "\n",
    "\n",
    "Embeddings are useful in a variety of machine learning applications. Because of the fact I have attached many data sources to the kernel where I fell that embeddings and Keras embedding layer may prove to be useful."
   ]
  },
  {
   "cell_type": "markdown",
   "metadata": {},
   "source": [
    "Before diving in let us skim through some of the applilcations of the embeddings : \n",
    "\n",
    "**1 ) The first application that strikes me is in the Collaborative Filtering based Recommender Systems where we have to create the user embeddings and the movie embeddings by decomposing the utility matrix which contains the user-item ratings.**\n",
    "\n",
    "To see a complete tutorial on CF based recommender systems using embeddings in Keras you can follow **[this](https://www.kaggle.com/rajmehra03/cf-based-recsys-by-low-rank-matrix-factorization)** kernel of mine.\n",
    "\n",
    "\n",
    "**2 ) The second use is in the Natural Language Processing and its related applications whre we have to create the word embeddings for all the words present in the documents of our corpus.**\n",
    "\n",
    "This is the terminology that I shall use in this kernel.\n",
    "\n",
    "\n",
    "**Thus the embedding layer in Keras can be used when we want to create the embeddings to embed higher dimensional data into lower dimensional vector space.**"
   ]
  },
  {
   "cell_type": "markdown",
   "metadata": {},
   "source": [
    "#### IMPORTING MODULES"
   ]
  },
  {
   "cell_type": "code",
   "execution_count": 1,
   "metadata": {},
   "outputs": [],
   "source": [
    "# Ignore  the warnings\n",
    "import warnings\n",
    "warnings.filterwarnings('always')\n",
    "warnings.filterwarnings('ignore')\n",
    "\n",
    "# data visualisation and manipulation\n",
    "import numpy as np\n",
    "import pandas as pd\n",
    "import matplotlib.pyplot as plt\n",
    "from matplotlib import style\n",
    "import seaborn as sns\n",
    "#configure\n",
    "# sets matplotlib to inline and displays graphs below the corressponding cell.\n",
    "%matplotlib inline  \n",
    "style.use('fivethirtyeight')\n",
    "sns.set(style='whitegrid',color_codes=True)\n",
    "\n",
    "# nltk\n",
    "import nltk\n",
    "\n",
    "# stop-words\n",
    "from nltk.corpus import stopwords\n",
    "stop_words = set(nltk.corpus.stopwords.words('english'))  # 한국어의 경우 다른 방식으로 stopword 활용 필요\n",
    "\n",
    "# tokenizing\n",
    "from nltk import word_tokenize, sent_tokenize\n",
    "\n",
    "# keras\n",
    "import keras\n",
    "from keras.preprocessing.text import one_hot, Tokenizer\n",
    "from keras.preprocessing.sequence import pad_sequences\n",
    "from keras.models import Sequential\n",
    "from keras.layers import Dense, Flatten, Embedding, Input\n",
    "from keras.models import Model"
   ]
  },
  {
   "cell_type": "markdown",
   "metadata": {},
   "source": [
    "#### CREATING SAMPLE CORPUS OF DOCUMENTS ie TEXTS"
   ]
  },
  {
   "cell_type": "code",
   "execution_count": 2,
   "metadata": {},
   "outputs": [],
   "source": [
    "sample_text_1=\"bitty bought a bit of butter\"\n",
    "sample_text_2=\"but the bit of butter was a bit bitter\"\n",
    "sample_text_3=\"so she bought some better butter to make the bitter butter better\"\n",
    "\n",
    "corp = [sample_text_1,sample_text_2,sample_text_3]\n",
    "no_docs = len(corp)"
   ]
  },
  {
   "cell_type": "markdown",
   "metadata": {},
   "source": [
    "#### INTEGER ENCODING ALL THE DOCUMENTS\n"
   ]
  },
  {
   "cell_type": "markdown",
   "metadata": {},
   "source": [
    "After this all the unique words will be reprsented by an integer. For this we are using **one_hot** function from the Keras. Note that the **vocab_size**  is specified large enough so as to ensure **unique integer encoding**  for each and every word.\n",
    "\n",
    "**Note one important thing that the integer encoding for the word remains same in different docs. eg 'butter' is  denoted by 31 in each and every document.**"
   ]
  },
  {
   "cell_type": "code",
   "execution_count": 4,
   "metadata": {},
   "outputs": [
    {
     "name": "stdout",
     "output_type": "stream",
     "text": [
      "The encoding for document 1  is :  [28, 33, 7, 34, 9, 25]\n",
      "The encoding for document 2  is :  [36, 22, 34, 9, 25, 3, 7, 34, 32]\n",
      "The encoding for document 3  is :  [11, 23, 33, 43, 17, 25, 3, 8, 22, 32, 25, 17]\n"
     ]
    }
   ],
   "source": [
    "vocab_size = 50\n",
    "encod_corp = []\n",
    "for i, doc in enumerate(corp):\n",
    "    encod_corp.append(one_hot(doc, 50))\n",
    "    print(\"The encoding for document\",i+1,\" is : \",one_hot(doc,50))"
   ]
  },
  {
   "cell_type": "markdown",
   "metadata": {},
   "source": [
    "#### PADDING THE DOCS (to make very doc of same length)"
   ]
  },
  {
   "cell_type": "markdown",
   "metadata": {},
   "source": [
    "**The Keras Embedding layer requires all individual documents to be of same length.**  Hence we wil pad the shorter documents with 0 for now. Therefore now in Keras Embedding layer the **'input_length'**  will be equal to the length  (ie no of words) of the document with maximum length or maximum number of words.\n",
    "\n",
    "To pad the shorter documents I am using **pad_sequences** functon from the Keras library."
   ]
  },
  {
   "cell_type": "code",
   "execution_count": 7,
   "metadata": {},
   "outputs": [
    {
     "name": "stderr",
     "output_type": "stream",
     "text": [
      "[nltk_data] Downloading package punkt to /home/jipiration/nltk_data...\n",
      "[nltk_data]   Unzipping tokenizers/punkt.zip.\n"
     ]
    },
    {
     "data": {
      "text/plain": [
       "True"
      ]
     },
     "execution_count": 7,
     "metadata": {},
     "output_type": "execute_result"
    }
   ],
   "source": [
    "\"\"\"if occur erro when run below cell\n",
    "LookupError: \n",
    "**********************************************************************\n",
    "  Resource punkt not found.\n",
    "  Please use the NLTK Downloader to obtain the resource:\n",
    "\"\"\"\n",
    "import nltk\n",
    "nltk.download('punkt')"
   ]
  },
  {
   "cell_type": "code",
   "execution_count": 8,
   "metadata": {},
   "outputs": [
    {
     "name": "stdout",
     "output_type": "stream",
     "text": [
      "The maximum number of words in any document is :  12\n"
     ]
    }
   ],
   "source": [
    "# length of maximum document. will be needed whenever create embeddings for the words\n",
    "maxlen = -1\n",
    "for doc in corp:\n",
    "    tokens = nltk.word_tokenize(doc)\n",
    "    if (maxlen < len(tokens)):\n",
    "        maxlen = len(tokens)\n",
    "print(\"The maximum number of words in any document is : \",maxlen)"
   ]
  },
  {
   "cell_type": "code",
   "execution_count": 9,
   "metadata": {},
   "outputs": [
    {
     "name": "stdout",
     "output_type": "stream",
     "text": [
      "No of padded documents:  3\n"
     ]
    }
   ],
   "source": [
    "# now to create embeddings all of our docs need to be of same length. hence we can pad the docs with zeros.\n",
    "pad_corp = pad_sequences(encod_corp, maxlen=maxlen, padding='post', value=0.0)\n",
    "print(\"No of padded documents: \", len(pad_corp))"
   ]
  },
  {
   "cell_type": "code",
   "execution_count": 10,
   "metadata": {},
   "outputs": [
    {
     "name": "stdout",
     "output_type": "stream",
     "text": [
      "The padded encoding for document 1  is :  [28 33  7 34  9 25  0  0  0  0  0  0]\n",
      "The padded encoding for document 2  is :  [36 22 34  9 25  3  7 34 32  0  0  0]\n",
      "The padded encoding for document 3  is :  [11 23 33 43 17 25  3  8 22 32 25 17]\n"
     ]
    }
   ],
   "source": [
    "for i, doc in enumerate(pad_corp):\n",
    "    print(\"The padded encoding for document\", i+1, \" is : \", doc)"
   ]
  },
  {
   "cell_type": "markdown",
   "metadata": {},
   "source": [
    "#### ACTUALLY CREATING THE EMBEDDINGS USING KERAS EMBEDDING LAYER"
   ]
  },
  {
   "cell_type": "markdown",
   "metadata": {},
   "source": [
    "Now all the documents are of same length (after padding). And so now we are ready to create and use the embeddings.\n",
    "\n",
    "**I will embed the words into vectors of 8 dimensions.**"
   ]
  },
  {
   "cell_type": "code",
   "execution_count": 12,
   "metadata": {},
   "outputs": [],
   "source": [
    "# specifying the inpit shape\n",
    "input = Input(shape=(no_docs, maxlen), dtype='float64')"
   ]
  },
  {
   "cell_type": "code",
   "execution_count": 13,
   "metadata": {},
   "outputs": [],
   "source": [
    "'''\n",
    "shape of input. \n",
    "each document has 12 element or words which is the value of our maxlen variable.\n",
    "\n",
    "'''\n",
    "word_input = Input(shape=(maxlen, ), dtype='float64')\n",
    "\n",
    "# creating the embedding\n",
    "word_embedding = Embedding(input_dim=vocab_size,\n",
    "                           output_dim=8,\n",
    "                          input_length=maxlen)(word_input)\n",
    "\n",
    "word_vec = Flatten()(word_embedding)  # flatten\n",
    "embed_model = Model([word_input], word_vec)  # combining all into a Keras model"
   ]
  },
  {
   "cell_type": "markdown",
   "metadata": {},
   "source": [
    "**PARAMETERS OF THE EMBEDDING LAYER --- **\n",
    "\n",
    "**'input_dim' = the vocab size that we will choose**. \n",
    "In other words it is the number of unique words in the vocab.\n",
    "\n",
    "**'output_dim'  = the number of dimensions we wish to embed into**. Each word will be represented by a vector of this much dimensions.\n",
    "\n",
    "**'input_length' = lenght of the maximum document**. which is stored in maxlen variable in our case."
   ]
  },
  {
   "cell_type": "code",
   "execution_count": 16,
   "metadata": {},
   "outputs": [],
   "source": [
    "embed_model.compile(optimizer=keras.optimizers.Adam(lr=1e-3),\n",
    "                   loss='binary_crossentropy',\n",
    "                   metrics=['acc'])\n",
    "# compiling the model. parameters can be tuned as always."
   ]
  },
  {
   "cell_type": "code",
   "execution_count": 17,
   "metadata": {},
   "outputs": [
    {
     "name": "stdout",
     "output_type": "stream",
     "text": [
      "<class 'tensorflow.python.framework.ops.Tensor'>\n",
      "Tensor(\"embedding/embedding_lookup/Identity_1:0\", shape=(None, 12, 8), dtype=float32)\n"
     ]
    }
   ],
   "source": [
    "print(type(word_embedding))\n",
    "print(word_embedding)"
   ]
  },
  {
   "cell_type": "code",
   "execution_count": 19,
   "metadata": {},
   "outputs": [
    {
     "name": "stdout",
     "output_type": "stream",
     "text": [
      "Model: \"functional_1\"\n",
      "_________________________________________________________________\n",
      "Layer (type)                 Output Shape              Param #   \n",
      "=================================================================\n",
      "input_2 (InputLayer)         [(None, 12)]              0         \n",
      "_________________________________________________________________\n",
      "embedding (Embedding)        (None, 12, 8)             400       \n",
      "_________________________________________________________________\n",
      "flatten (Flatten)            (None, 96)                0         \n",
      "=================================================================\n",
      "Total params: 400\n",
      "Trainable params: 400\n",
      "Non-trainable params: 0\n",
      "_________________________________________________________________\n",
      "None\n"
     ]
    }
   ],
   "source": [
    "print(embed_model.summary())"
   ]
  },
  {
   "cell_type": "code",
   "execution_count": 20,
   "metadata": {},
   "outputs": [],
   "source": [
    "embeddings = embed_model.predict(pad_corp)  # finally getting the embeddings."
   ]
  },
  {
   "cell_type": "code",
   "execution_count": 21,
   "metadata": {},
   "outputs": [
    {
     "name": "stdout",
     "output_type": "stream",
     "text": [
      "Shape of embeddings :  (3, 96)\n",
      "[[-0.03310168  0.02806209  0.02196852 -0.00560515 -0.03966364  0.04354655\n",
      "  -0.01018946 -0.0389477   0.04522724 -0.04432845 -0.03719134 -0.02713616\n",
      "   0.03810224 -0.03969098 -0.00514799  0.00840171 -0.00794631  0.02513537\n",
      "  -0.02540492 -0.04060306  0.0177938   0.00793588 -0.0116003   0.00449365\n",
      "   0.03300757 -0.01487549 -0.04253104 -0.00711449 -0.03306863 -0.00692214\n",
      "  -0.036762    0.02680138 -0.00311441 -0.02400154 -0.03304403  0.03124237\n",
      "   0.0376729   0.04623807 -0.03929253  0.02857456 -0.03327229  0.01895114\n",
      "   0.04607845  0.04802604  0.04823346 -0.01982458  0.00250108  0.03112673\n",
      "  -0.04034946  0.03921131  0.03654471  0.01830197 -0.02886883  0.02613212\n",
      "  -0.04864792  0.03570137 -0.04034946  0.03921131  0.03654471  0.01830197\n",
      "  -0.02886883  0.02613212 -0.04864792  0.03570137 -0.04034946  0.03921131\n",
      "   0.03654471  0.01830197 -0.02886883  0.02613212 -0.04864792  0.03570137\n",
      "  -0.04034946  0.03921131  0.03654471  0.01830197 -0.02886883  0.02613212\n",
      "  -0.04864792  0.03570137 -0.04034946  0.03921131  0.03654471  0.01830197\n",
      "  -0.02886883  0.02613212 -0.04864792  0.03570137 -0.04034946  0.03921131\n",
      "   0.03654471  0.01830197 -0.02886883  0.02613212 -0.04864792  0.03570137]\n",
      " [ 0.01672411  0.02756932  0.01008039 -0.02555646  0.00773795 -0.04621825\n",
      "   0.03124586  0.02354124  0.0440758   0.0225218  -0.04253476  0.0454427\n",
      "   0.00756867 -0.01866124  0.03035775 -0.03043925  0.03300757 -0.01487549\n",
      "  -0.04253104 -0.00711449 -0.03306863 -0.00692214 -0.036762    0.02680138\n",
      "  -0.00311441 -0.02400154 -0.03304403  0.03124237  0.0376729   0.04623807\n",
      "  -0.03929253  0.02857456 -0.03327229  0.01895114  0.04607845  0.04802604\n",
      "   0.04823346 -0.01982458  0.00250108  0.03112673 -0.01999765 -0.00026881\n",
      "   0.03235436 -0.04209955  0.02688125  0.04806658  0.00218242 -0.02410296\n",
      "  -0.00794631  0.02513537 -0.02540492 -0.04060306  0.0177938   0.00793588\n",
      "  -0.0116003   0.00449365  0.03300757 -0.01487549 -0.04253104 -0.00711449\n",
      "  -0.03306863 -0.00692214 -0.036762    0.02680138 -0.02867254  0.02607639\n",
      "  -0.00032274 -0.02611353  0.02314012  0.03932801  0.04177861  0.04606995\n",
      "  -0.04034946  0.03921131  0.03654471  0.01830197 -0.02886883  0.02613212\n",
      "  -0.04864792  0.03570137 -0.04034946  0.03921131  0.03654471  0.01830197\n",
      "  -0.02886883  0.02613212 -0.04864792  0.03570137 -0.04034946  0.03921131\n",
      "   0.03654471  0.01830197 -0.02886883  0.02613212 -0.04864792  0.03570137]\n",
      " [ 0.00241029  0.04945091  0.01525524 -0.01009499 -0.02733357 -0.03873346\n",
      "   0.00104839 -0.00894042  0.0383972   0.01754835 -0.01810787 -0.01504364\n",
      "   0.04681065 -0.04912777  0.00168228  0.04608301  0.04522724 -0.04432845\n",
      "  -0.03719134 -0.02713616  0.03810224 -0.03969098 -0.00514799  0.00840171\n",
      "   0.04037923  0.04154054 -0.04533653  0.0373366  -0.00479969  0.01775583\n",
      "   0.02662745 -0.00513961  0.01056191 -0.01805102 -0.04876819 -0.03762834\n",
      "   0.01772478 -0.02287096 -0.03954382  0.02232945 -0.03327229  0.01895114\n",
      "   0.04607845  0.04802604  0.04823346 -0.01982458  0.00250108  0.03112673\n",
      "  -0.01999765 -0.00026881  0.03235436 -0.04209955  0.02688125  0.04806658\n",
      "   0.00218242 -0.02410296 -0.00820971 -0.03281206  0.02797939 -0.03218682\n",
      "  -0.04015614  0.0382284  -0.01603635 -0.02695537  0.0440758   0.0225218\n",
      "  -0.04253476  0.0454427   0.00756867 -0.01866124  0.03035775 -0.03043925\n",
      "  -0.02867254  0.02607639 -0.00032274 -0.02611353  0.02314012  0.03932801\n",
      "   0.04177861  0.04606995 -0.03327229  0.01895114  0.04607845  0.04802604\n",
      "   0.04823346 -0.01982458  0.00250108  0.03112673  0.01056191 -0.01805102\n",
      "  -0.04876819 -0.03762834  0.01772478 -0.02287096 -0.03954382  0.02232945]]\n"
     ]
    }
   ],
   "source": [
    "print(\"Shape of embeddings : \",embeddings.shape)\n",
    "print(embeddings)"
   ]
  },
  {
   "cell_type": "code",
   "execution_count": 23,
   "metadata": {},
   "outputs": [
    {
     "name": "stdout",
     "output_type": "stream",
     "text": [
      "Shape of embeddings :  (3, 12, 8)\n",
      "[[[-0.03310168  0.02806209  0.02196852 -0.00560515 -0.03966364\n",
      "    0.04354655 -0.01018946 -0.0389477 ]\n",
      "  [ 0.04522724 -0.04432845 -0.03719134 -0.02713616  0.03810224\n",
      "   -0.03969098 -0.00514799  0.00840171]\n",
      "  [-0.00794631  0.02513537 -0.02540492 -0.04060306  0.0177938\n",
      "    0.00793588 -0.0116003   0.00449365]\n",
      "  [ 0.03300757 -0.01487549 -0.04253104 -0.00711449 -0.03306863\n",
      "   -0.00692214 -0.036762    0.02680138]\n",
      "  [-0.00311441 -0.02400154 -0.03304403  0.03124237  0.0376729\n",
      "    0.04623807 -0.03929253  0.02857456]\n",
      "  [-0.03327229  0.01895114  0.04607845  0.04802604  0.04823346\n",
      "   -0.01982458  0.00250108  0.03112673]\n",
      "  [-0.04034946  0.03921131  0.03654471  0.01830197 -0.02886883\n",
      "    0.02613212 -0.04864792  0.03570137]\n",
      "  [-0.04034946  0.03921131  0.03654471  0.01830197 -0.02886883\n",
      "    0.02613212 -0.04864792  0.03570137]\n",
      "  [-0.04034946  0.03921131  0.03654471  0.01830197 -0.02886883\n",
      "    0.02613212 -0.04864792  0.03570137]\n",
      "  [-0.04034946  0.03921131  0.03654471  0.01830197 -0.02886883\n",
      "    0.02613212 -0.04864792  0.03570137]\n",
      "  [-0.04034946  0.03921131  0.03654471  0.01830197 -0.02886883\n",
      "    0.02613212 -0.04864792  0.03570137]\n",
      "  [-0.04034946  0.03921131  0.03654471  0.01830197 -0.02886883\n",
      "    0.02613212 -0.04864792  0.03570137]]\n",
      "\n",
      " [[ 0.01672411  0.02756932  0.01008039 -0.02555646  0.00773795\n",
      "   -0.04621825  0.03124586  0.02354124]\n",
      "  [ 0.0440758   0.0225218  -0.04253476  0.0454427   0.00756867\n",
      "   -0.01866124  0.03035775 -0.03043925]\n",
      "  [ 0.03300757 -0.01487549 -0.04253104 -0.00711449 -0.03306863\n",
      "   -0.00692214 -0.036762    0.02680138]\n",
      "  [-0.00311441 -0.02400154 -0.03304403  0.03124237  0.0376729\n",
      "    0.04623807 -0.03929253  0.02857456]\n",
      "  [-0.03327229  0.01895114  0.04607845  0.04802604  0.04823346\n",
      "   -0.01982458  0.00250108  0.03112673]\n",
      "  [-0.01999765 -0.00026881  0.03235436 -0.04209955  0.02688125\n",
      "    0.04806658  0.00218242 -0.02410296]\n",
      "  [-0.00794631  0.02513537 -0.02540492 -0.04060306  0.0177938\n",
      "    0.00793588 -0.0116003   0.00449365]\n",
      "  [ 0.03300757 -0.01487549 -0.04253104 -0.00711449 -0.03306863\n",
      "   -0.00692214 -0.036762    0.02680138]\n",
      "  [-0.02867254  0.02607639 -0.00032274 -0.02611353  0.02314012\n",
      "    0.03932801  0.04177861  0.04606995]\n",
      "  [-0.04034946  0.03921131  0.03654471  0.01830197 -0.02886883\n",
      "    0.02613212 -0.04864792  0.03570137]\n",
      "  [-0.04034946  0.03921131  0.03654471  0.01830197 -0.02886883\n",
      "    0.02613212 -0.04864792  0.03570137]\n",
      "  [-0.04034946  0.03921131  0.03654471  0.01830197 -0.02886883\n",
      "    0.02613212 -0.04864792  0.03570137]]\n",
      "\n",
      " [[ 0.00241029  0.04945091  0.01525524 -0.01009499 -0.02733357\n",
      "   -0.03873346  0.00104839 -0.00894042]\n",
      "  [ 0.0383972   0.01754835 -0.01810787 -0.01504364  0.04681065\n",
      "   -0.04912777  0.00168228  0.04608301]\n",
      "  [ 0.04522724 -0.04432845 -0.03719134 -0.02713616  0.03810224\n",
      "   -0.03969098 -0.00514799  0.00840171]\n",
      "  [ 0.04037923  0.04154054 -0.04533653  0.0373366  -0.00479969\n",
      "    0.01775583  0.02662745 -0.00513961]\n",
      "  [ 0.01056191 -0.01805102 -0.04876819 -0.03762834  0.01772478\n",
      "   -0.02287096 -0.03954382  0.02232945]\n",
      "  [-0.03327229  0.01895114  0.04607845  0.04802604  0.04823346\n",
      "   -0.01982458  0.00250108  0.03112673]\n",
      "  [-0.01999765 -0.00026881  0.03235436 -0.04209955  0.02688125\n",
      "    0.04806658  0.00218242 -0.02410296]\n",
      "  [-0.00820971 -0.03281206  0.02797939 -0.03218682 -0.04015614\n",
      "    0.0382284  -0.01603635 -0.02695537]\n",
      "  [ 0.0440758   0.0225218  -0.04253476  0.0454427   0.00756867\n",
      "   -0.01866124  0.03035775 -0.03043925]\n",
      "  [-0.02867254  0.02607639 -0.00032274 -0.02611353  0.02314012\n",
      "    0.03932801  0.04177861  0.04606995]\n",
      "  [-0.03327229  0.01895114  0.04607845  0.04802604  0.04823346\n",
      "   -0.01982458  0.00250108  0.03112673]\n",
      "  [ 0.01056191 -0.01805102 -0.04876819 -0.03762834  0.01772478\n",
      "   -0.02287096 -0.03954382  0.02232945]]]\n"
     ]
    }
   ],
   "source": [
    "embeddings = embeddings.reshape(-1, maxlen, 8)\n",
    "print(\"Shape of embeddings : \",embeddings.shape) \n",
    "print(embeddings)"
   ]
  },
  {
   "cell_type": "markdown",
   "metadata": {},
   "source": [
    "The resulting shape is (3,12,8).\n",
    "\n",
    "**3---> no of documents**\n",
    "\n",
    "**12---> each document is made of 12 words which was our maximum length of any document.**\n",
    "\n",
    "**& 8---> each word is 8 dimensional.**\n",
    "\n",
    " "
   ]
  },
  {
   "cell_type": "markdown",
   "metadata": {},
   "source": [
    "#### GETTING ENCODING FOR A PARTICULAR WORD IN A SPECIFIC DOCUMENT"
   ]
  },
  {
   "cell_type": "code",
   "execution_count": 27,
   "metadata": {},
   "outputs": [
    {
     "name": "stdout",
     "output_type": "stream",
     "text": [
      "The encoding for  1 the word in 1 th document is : \n",
      "\n",
      " [-0.03310168  0.02806209  0.02196852 -0.00560515 -0.03966364  0.04354655\n",
      " -0.01018946 -0.0389477 ] \n",
      "\n",
      "The encoding for  2 the word in 1 th document is : \n",
      "\n",
      " [ 0.04522724 -0.04432845 -0.03719134 -0.02713616  0.03810224 -0.03969098\n",
      " -0.00514799  0.00840171] \n",
      "\n",
      "The encoding for  3 the word in 1 th document is : \n",
      "\n",
      " [-0.00794631  0.02513537 -0.02540492 -0.04060306  0.0177938   0.00793588\n",
      " -0.0116003   0.00449365] \n",
      "\n",
      "The encoding for  4 the word in 1 th document is : \n",
      "\n",
      " [ 0.03300757 -0.01487549 -0.04253104 -0.00711449 -0.03306863 -0.00692214\n",
      " -0.036762    0.02680138] \n",
      "\n",
      "The encoding for  5 the word in 1 th document is : \n",
      "\n",
      " [-0.00311441 -0.02400154 -0.03304403  0.03124237  0.0376729   0.04623807\n",
      " -0.03929253  0.02857456] \n",
      "\n",
      "The encoding for  6 the word in 1 th document is : \n",
      "\n",
      " [-0.03327229  0.01895114  0.04607845  0.04802604  0.04823346 -0.01982458\n",
      "  0.00250108  0.03112673] \n",
      "\n",
      "The encoding for  7 the word in 1 th document is : \n",
      "\n",
      " [-0.04034946  0.03921131  0.03654471  0.01830197 -0.02886883  0.02613212\n",
      " -0.04864792  0.03570137] \n",
      "\n",
      "The encoding for  8 the word in 1 th document is : \n",
      "\n",
      " [-0.04034946  0.03921131  0.03654471  0.01830197 -0.02886883  0.02613212\n",
      " -0.04864792  0.03570137] \n",
      "\n",
      "The encoding for  9 the word in 1 th document is : \n",
      "\n",
      " [-0.04034946  0.03921131  0.03654471  0.01830197 -0.02886883  0.02613212\n",
      " -0.04864792  0.03570137] \n",
      "\n",
      "The encoding for  10 the word in 1 th document is : \n",
      "\n",
      " [-0.04034946  0.03921131  0.03654471  0.01830197 -0.02886883  0.02613212\n",
      " -0.04864792  0.03570137] \n",
      "\n",
      "The encoding for  11 the word in 1 th document is : \n",
      "\n",
      " [-0.04034946  0.03921131  0.03654471  0.01830197 -0.02886883  0.02613212\n",
      " -0.04864792  0.03570137] \n",
      "\n",
      "The encoding for  12 the word in 1 th document is : \n",
      "\n",
      " [-0.04034946  0.03921131  0.03654471  0.01830197 -0.02886883  0.02613212\n",
      " -0.04864792  0.03570137] \n",
      "\n",
      "The encoding for  1 the word in 2 th document is : \n",
      "\n",
      " [ 0.01672411  0.02756932  0.01008039 -0.02555646  0.00773795 -0.04621825\n",
      "  0.03124586  0.02354124] \n",
      "\n",
      "The encoding for  2 the word in 2 th document is : \n",
      "\n",
      " [ 0.0440758   0.0225218  -0.04253476  0.0454427   0.00756867 -0.01866124\n",
      "  0.03035775 -0.03043925] \n",
      "\n",
      "The encoding for  3 the word in 2 th document is : \n",
      "\n",
      " [ 0.03300757 -0.01487549 -0.04253104 -0.00711449 -0.03306863 -0.00692214\n",
      " -0.036762    0.02680138] \n",
      "\n",
      "The encoding for  4 the word in 2 th document is : \n",
      "\n",
      " [-0.00311441 -0.02400154 -0.03304403  0.03124237  0.0376729   0.04623807\n",
      " -0.03929253  0.02857456] \n",
      "\n",
      "The encoding for  5 the word in 2 th document is : \n",
      "\n",
      " [-0.03327229  0.01895114  0.04607845  0.04802604  0.04823346 -0.01982458\n",
      "  0.00250108  0.03112673] \n",
      "\n",
      "The encoding for  6 the word in 2 th document is : \n",
      "\n",
      " [-0.01999765 -0.00026881  0.03235436 -0.04209955  0.02688125  0.04806658\n",
      "  0.00218242 -0.02410296] \n",
      "\n",
      "The encoding for  7 the word in 2 th document is : \n",
      "\n",
      " [-0.00794631  0.02513537 -0.02540492 -0.04060306  0.0177938   0.00793588\n",
      " -0.0116003   0.00449365] \n",
      "\n",
      "The encoding for  8 the word in 2 th document is : \n",
      "\n",
      " [ 0.03300757 -0.01487549 -0.04253104 -0.00711449 -0.03306863 -0.00692214\n",
      " -0.036762    0.02680138] \n",
      "\n",
      "The encoding for  9 the word in 2 th document is : \n",
      "\n",
      " [-0.02867254  0.02607639 -0.00032274 -0.02611353  0.02314012  0.03932801\n",
      "  0.04177861  0.04606995] \n",
      "\n",
      "The encoding for  10 the word in 2 th document is : \n",
      "\n",
      " [-0.04034946  0.03921131  0.03654471  0.01830197 -0.02886883  0.02613212\n",
      " -0.04864792  0.03570137] \n",
      "\n",
      "The encoding for  11 the word in 2 th document is : \n",
      "\n",
      " [-0.04034946  0.03921131  0.03654471  0.01830197 -0.02886883  0.02613212\n",
      " -0.04864792  0.03570137] \n",
      "\n",
      "The encoding for  12 the word in 2 th document is : \n",
      "\n",
      " [-0.04034946  0.03921131  0.03654471  0.01830197 -0.02886883  0.02613212\n",
      " -0.04864792  0.03570137] \n",
      "\n",
      "The encoding for  1 the word in 3 th document is : \n",
      "\n",
      " [ 0.00241029  0.04945091  0.01525524 -0.01009499 -0.02733357 -0.03873346\n",
      "  0.00104839 -0.00894042] \n",
      "\n",
      "The encoding for  2 the word in 3 th document is : \n",
      "\n",
      " [ 0.0383972   0.01754835 -0.01810787 -0.01504364  0.04681065 -0.04912777\n",
      "  0.00168228  0.04608301] \n",
      "\n",
      "The encoding for  3 the word in 3 th document is : \n",
      "\n",
      " [ 0.04522724 -0.04432845 -0.03719134 -0.02713616  0.03810224 -0.03969098\n",
      " -0.00514799  0.00840171] \n",
      "\n",
      "The encoding for  4 the word in 3 th document is : \n",
      "\n",
      " [ 0.04037923  0.04154054 -0.04533653  0.0373366  -0.00479969  0.01775583\n",
      "  0.02662745 -0.00513961] \n",
      "\n",
      "The encoding for  5 the word in 3 th document is : \n",
      "\n",
      " [ 0.01056191 -0.01805102 -0.04876819 -0.03762834  0.01772478 -0.02287096\n",
      " -0.03954382  0.02232945] \n",
      "\n",
      "The encoding for  6 the word in 3 th document is : \n",
      "\n",
      " [-0.03327229  0.01895114  0.04607845  0.04802604  0.04823346 -0.01982458\n",
      "  0.00250108  0.03112673] \n",
      "\n",
      "The encoding for  7 the word in 3 th document is : \n",
      "\n",
      " [-0.01999765 -0.00026881  0.03235436 -0.04209955  0.02688125  0.04806658\n",
      "  0.00218242 -0.02410296] \n",
      "\n",
      "The encoding for  8 the word in 3 th document is : \n",
      "\n",
      " [-0.00820971 -0.03281206  0.02797939 -0.03218682 -0.04015614  0.0382284\n",
      " -0.01603635 -0.02695537] \n",
      "\n",
      "The encoding for  9 the word in 3 th document is : \n",
      "\n",
      " [ 0.0440758   0.0225218  -0.04253476  0.0454427   0.00756867 -0.01866124\n",
      "  0.03035775 -0.03043925] \n",
      "\n",
      "The encoding for  10 the word in 3 th document is : \n",
      "\n",
      " [-0.02867254  0.02607639 -0.00032274 -0.02611353  0.02314012  0.03932801\n",
      "  0.04177861  0.04606995] \n",
      "\n",
      "The encoding for  11 the word in 3 th document is : \n",
      "\n",
      " [-0.03327229  0.01895114  0.04607845  0.04802604  0.04823346 -0.01982458\n",
      "  0.00250108  0.03112673] \n",
      "\n",
      "The encoding for  12 the word in 3 th document is : \n",
      "\n",
      " [ 0.01056191 -0.01805102 -0.04876819 -0.03762834  0.01772478 -0.02287096\n",
      " -0.03954382  0.02232945] \n",
      "\n"
     ]
    }
   ],
   "source": [
    "for i, doc in enumerate(embeddings):\n",
    "    for j, word in enumerate(doc):\n",
    "        print(\"The encoding for \", j+1, \"the word\", \"in\", i+1, \"th document is : \\n\\n\", word, \"\\n\")"
   ]
  },
  {
   "cell_type": "markdown",
   "metadata": {},
   "source": [
    "#### Now this makes it easier to visualize that we have 3(size of corp) documents with each consisting of 12(maxlen) words and each word mapped to a 8-dimensional vector."
   ]
  },
  {
   "cell_type": "markdown",
   "metadata": {},
   "source": [
    "#### HOW TO WORK WITH A REAL PIECE OF TEXT\n",
    "\n",
    "Just like above we can now use any other document. We can sent_tokenize the doc into sentences.\n",
    "\n",
    "Each sentence has a list of words which we will integer encode using the 'one_hot' function as below. \n",
    "\n",
    "Now each sentence will be having different number of words. So we will need to pad the sequences to the sentence with maximum words.\n",
    "\n",
    "**At this point we are ready to feed the input to Keras Embedding layer as shown above.**\n",
    "\n",
    "**'input_dim' = the vocab size that we will choose**\n",
    "\n",
    "**'output_dim'  = the number of dimensions we wish to embed into**\n",
    "\n",
    "**'input_length' = lenght of the maximum document**"
   ]
  },
  {
   "cell_type": "markdown",
   "metadata": {},
   "source": [
    "## THE END"
   ]
  },
  {
   "cell_type": "markdown",
   "metadata": {},
   "source": [
    "**If you want to see the application of Keras embedding layer on a real task eg text classification then please check out my [this](https://github.com/mrc03/IMDB-Movie-Review-Sentiment-Analysis) repo on Github in which I have used the embeddings to perform sentiment analysis on IMdb movie review dataset.**"
   ]
  }
 ],
 "metadata": {
  "kernelspec": {
   "display_name": "jipiration",
   "language": "python",
   "name": "jipiration"
  },
  "language_info": {
   "codemirror_mode": {
    "name": "ipython",
    "version": 3
   },
   "file_extension": ".py",
   "mimetype": "text/x-python",
   "name": "python",
   "nbconvert_exporter": "python",
   "pygments_lexer": "ipython3",
   "version": "3.7.5"
  }
 },
 "nbformat": 4,
 "nbformat_minor": 4
}
