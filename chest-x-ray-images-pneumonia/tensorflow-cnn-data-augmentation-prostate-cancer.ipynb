{
 "cells": [
  {
   "cell_type": "markdown",
   "metadata": {},
   "source": [
    "## 1. Introduction + Set-up\n",
    "\n",
    "TensorFlow is a powerful tool to develop any machine learning pipeline, and today we will go over how to load Image+CSV combined datasets, how to use Keras preprocessing layers for image augmentation, and how to use pre-trained models for image classification.\n",
    "\n",
    "Skeleton code for the DataGenerator Sequence subclass is credited to [Xie29's NB](https://www.kaggle.com/xiejialun/panda-tiles-training-on-tensorflow-0-7-cv).\n",
    "\n",
    "Run the following cell to import the necessary packages. We will be using the GPU accelerator to efficiently train our model. Remember to change the accelerator on the right to GPU. We won't be using a TPU for this notebook because data generators are not safe to run on multiple replicas. If a TPU is not used, change the `TPU_used` variable to `False`."
   ]
  },
  {
   "cell_type": "code",
   "execution_count": 3,
   "metadata": {},
   "outputs": [
    {
     "name": "stdout",
     "output_type": "stream",
     "text": [
      "\u001b[31mERROR: pip's dependency resolver does not currently take into account all the packages that are installed. This behaviour is the source of the following dependency conflicts.\n",
      "tensorflow 2.2.0 requires gast==0.3.3, but you have gast 0.4.0 which is incompatible.\n",
      "tensorflow 2.2.0 requires h5py<2.11.0,>=2.10.0, but you have h5py 3.1.0 which is incompatible.\n",
      "tensorflow-gpu 2.3.1 requires gast==0.3.3, but you have gast 0.4.0 which is incompatible.\n",
      "tensorflow-gpu 2.3.1 requires h5py<2.11.0,>=2.10.0, but you have h5py 3.1.0 which is incompatible.\n",
      "tensorflow-gpu 2.3.1 requires numpy<1.19.0,>=1.16.0, but you have numpy 1.19.2 which is incompatible.\n",
      "tensorflow-gpu 2.3.1 requires tensorboard<3,>=2.3.0, but you have tensorboard 2.2.2 which is incompatible.\n",
      "tensorflow-gpu 2.3.1 requires tensorflow-estimator<2.4.0,>=2.3.0, but you have tensorflow-estimator 2.2.0 which is incompatible.\u001b[0m\n"
     ]
    }
   ],
   "source": [
    "!pip install tensorflow==2.2.0  --quiet\n",
    "!pip install tf-nightly  --quiet"
   ]
  },
  {
   "cell_type": "code",
   "execution_count": 7,
   "metadata": {},
   "outputs": [
    {
     "name": "stdout",
     "output_type": "stream",
     "text": [
      "Tensorflow version : 2.5.0-dev20210122\n",
      "Number of replicas: 1\n",
      "2.5.0-dev20210122\n"
     ]
    }
   ],
   "source": [
    "import os\n",
    "import PIL\n",
    "import time\n",
    "import math\n",
    "import warnings\n",
    "import numpy as np\n",
    "import pandas as pd\n",
    "import tensorflow as tf\n",
    "import matplotlib.pyplot as plt\n",
    "from sklearn.model_selection import train_test_split\n",
    "from tensorflow.keras.preprocessing.image import load_img\n",
    "\n",
    "SEED = 1337\n",
    "print('Tensorflow version : {}'.format(tf.__version__))\n",
    "\n",
    "try:\n",
    "    tpu = tf.distribute.cluster_resolver.TPUClusterResolver()\n",
    "    tf.config.experimental_connect_to_cluster(tpu)\n",
    "    tf.tpu.experimental.initialize_tpu_system(tpu)\n",
    "    strategy = tf.distribute.experimental.TPUStrategy(tpu)\n",
    "except ValueError:\n",
    "    strategy = tf.distribute.get_strategy() # for CPU and single GPU\n",
    "    print('Number of replicas:', strategy.num_replicas_in_sync)\n",
    "    \n",
    "print(tf.__version__)"
   ]
  },
  {
   "cell_type": "markdown",
   "metadata": {},
   "source": [
    "## 2. Data loading\n",
    "\n",
    "The first step is to load in our data. The original PANDA dataset contains large images and masks that specify which area of the mask led to the ISUP grade (determines the severity of the cancer). Since the original images contain a lot of white space and extraneous data that is not necessary for our model, we will be using tiles to condense the images. Basically, the tiles are small sections of the masked areas, and these tiles can be concatenated together so the only the masked sections of the original image remains."
   ]
  },
  {
   "cell_type": "code",
   "execution_count": 44,
   "metadata": {},
   "outputs": [],
   "source": [
    "MAIN_DIR = './input_2/prostate-cancer-grade-assessment'\n",
    "TRAIN_IMG_DIR = './input_2/panda-tiles/train'\n",
    "TRAIN_MASKS_DIR = './input_2/panda-tiles/masks'\n",
    "train_csv = pd.read_csv(os.path.join(MAIN_DIR, 'train.csv'))"
   ]
  },
  {
   "cell_type": "markdown",
   "metadata": {},
   "source": [
    "Some of the images could not be converted to tiles because the masks were too small or the image was too noisy. We need to take these images out of our DataFrame so that we do not run into a `FileNotFoundError`."
   ]
  },
  {
   "cell_type": "code",
   "execution_count": 45,
   "metadata": {},
   "outputs": [
    {
     "data": {
      "text/html": [
       "<div>\n",
       "<style scoped>\n",
       "    .dataframe tbody tr th:only-of-type {\n",
       "        vertical-align: middle;\n",
       "    }\n",
       "\n",
       "    .dataframe tbody tr th {\n",
       "        vertical-align: top;\n",
       "    }\n",
       "\n",
       "    .dataframe thead th {\n",
       "        text-align: right;\n",
       "    }\n",
       "</style>\n",
       "<table border=\"1\" class=\"dataframe\">\n",
       "  <thead>\n",
       "    <tr style=\"text-align: right;\">\n",
       "      <th></th>\n",
       "      <th>image_id</th>\n",
       "      <th>data_provider</th>\n",
       "      <th>isup_grade</th>\n",
       "      <th>gleason_score</th>\n",
       "    </tr>\n",
       "  </thead>\n",
       "  <tbody>\n",
       "    <tr>\n",
       "      <th>0</th>\n",
       "      <td>0005f7aaab2800f6170c399693a96917</td>\n",
       "      <td>karolinska</td>\n",
       "      <td>0</td>\n",
       "      <td>0+0</td>\n",
       "    </tr>\n",
       "    <tr>\n",
       "      <th>1</th>\n",
       "      <td>000920ad0b612851f8e01bcc880d9b3d</td>\n",
       "      <td>karolinska</td>\n",
       "      <td>0</td>\n",
       "      <td>0+0</td>\n",
       "    </tr>\n",
       "    <tr>\n",
       "      <th>2</th>\n",
       "      <td>0018ae58b01bdadc8e347995b69f99aa</td>\n",
       "      <td>radboud</td>\n",
       "      <td>4</td>\n",
       "      <td>4+4</td>\n",
       "    </tr>\n",
       "    <tr>\n",
       "      <th>3</th>\n",
       "      <td>001c62abd11fa4b57bf7a6c603a11bb9</td>\n",
       "      <td>karolinska</td>\n",
       "      <td>4</td>\n",
       "      <td>4+4</td>\n",
       "    </tr>\n",
       "    <tr>\n",
       "      <th>4</th>\n",
       "      <td>001d865e65ef5d2579c190a0e0350d8f</td>\n",
       "      <td>karolinska</td>\n",
       "      <td>0</td>\n",
       "      <td>0+0</td>\n",
       "    </tr>\n",
       "  </tbody>\n",
       "</table>\n",
       "</div>"
      ],
      "text/plain": [
       "                           image_id data_provider  isup_grade gleason_score\n",
       "0  0005f7aaab2800f6170c399693a96917    karolinska           0           0+0\n",
       "1  000920ad0b612851f8e01bcc880d9b3d    karolinska           0           0+0\n",
       "2  0018ae58b01bdadc8e347995b69f99aa       radboud           4           4+4\n",
       "3  001c62abd11fa4b57bf7a6c603a11bb9    karolinska           4           4+4\n",
       "4  001d865e65ef5d2579c190a0e0350d8f    karolinska           0           0+0"
      ]
     },
     "execution_count": 45,
     "metadata": {},
     "output_type": "execute_result"
    }
   ],
   "source": [
    "train_csv.head()"
   ]
  },
  {
   "cell_type": "code",
   "execution_count": 48,
   "metadata": {},
   "outputs": [
    {
     "data": {
      "text/plain": [
       "0    2892\n",
       "1    2666\n",
       "2    1343\n",
       "4    1249\n",
       "3    1242\n",
       "5    1224\n",
       "Name: isup_grade, dtype: int64"
      ]
     },
     "execution_count": 48,
     "metadata": {},
     "output_type": "execute_result"
    }
   ],
   "source": [
    "train_csv['isup_grade'].value_counts()"
   ]
  },
  {
   "cell_type": "code",
   "execution_count": 31,
   "metadata": {},
   "outputs": [],
   "source": [
    "valid_images = tf.io.gfile.glob(TRAIN_IMG_DIR + '/*_0.png')\n",
    "img_ids = train_csv['image_id']"
   ]
  },
  {
   "cell_type": "code",
   "execution_count": 32,
   "metadata": {},
   "outputs": [
    {
     "data": {
      "text/plain": [
       "[]"
      ]
     },
     "execution_count": 32,
     "metadata": {},
     "output_type": "execute_result"
    }
   ],
   "source": [
    "valid_images"
   ]
  },
  {
   "cell_type": "code",
   "execution_count": 33,
   "metadata": {},
   "outputs": [
    {
     "data": {
      "text/plain": [
       "0    0005f7aaab2800f6170c399693a96917\n",
       "1    000920ad0b612851f8e01bcc880d9b3d\n",
       "2    0018ae58b01bdadc8e347995b69f99aa\n",
       "3    001c62abd11fa4b57bf7a6c603a11bb9\n",
       "4    001d865e65ef5d2579c190a0e0350d8f\n",
       "5    002a4db09dad406c85505a00fb6f6144\n",
       "6    003046e27c8ead3e3db155780dc5498e\n",
       "7    0032bfa835ce0f43a92ae0bbab6871cb\n",
       "8    003a91841da04a5a31f808fb5c21538a\n",
       "9    003d4dd6bd61221ebc0bfb9350db333f\n",
       "Name: image_id, dtype: object"
      ]
     },
     "execution_count": 33,
     "metadata": {},
     "output_type": "execute_result"
    }
   ],
   "source": [
    "img_ids[:10]"
   ]
  },
  {
   "cell_type": "code",
   "execution_count": 41,
   "metadata": {},
   "outputs": [],
   "source": [
    "for img_id in img_ids:\n",
    "    file_name = TRAIN_IMG_DIR + '/' + img_id + '_0.png'\n",
    "    if file_name not in valid_images:\n",
    "        train_csv = train_csv[train_csv['image_id'] != img_id]\n",
    "\n",
    "radboud_csv = train_csv[train_csv['data_provider'] == 'radboud']\n",
    "karolinska_csv = train_csv[train_csv['data_provider'] != 'radboud']"
   ]
  },
  {
   "cell_type": "markdown",
   "metadata": {},
   "source": [
    "We want both our training dataset and our validation dataset to contain images from both the Karolinska Institute and Radboud University Medical Center data providers. The following cell will split the each datafram into a 80:20 training:validation split."
   ]
  },
  {
   "cell_type": "markdown",
   "metadata": {},
   "source": [
    "현재 valid_images에 아무값이 없기에, train_csv 에서 모두 제외됨\n",
    "-> valid_images 다시 체크"
   ]
  },
  {
   "cell_type": "code",
   "execution_count": null,
   "metadata": {},
   "outputs": [],
   "source": [
    "r_train, r_test = train_test_split(radboud_csv, test_size=0.2, random_size=SEED)\n",
    "k_train, k_test = train_test_split(karolinska_csv, test_size=0.2, random_size=SEED)"
   ]
  },
  {
   "cell_type": "markdown",
   "metadata": {},
   "source": [
    "Concatenate the dataframes from the two different providers and we have our training dataset and our validation dataset."
   ]
  },
  {
   "cell_type": "code",
   "execution_count": null,
   "metadata": {},
   "outputs": [],
   "source": [
    "train_df = pd.concat([r_train, k_train])\n",
    "valid_df = pd.concat([r_test, k_test])\n",
    "\n",
    "print(train_df.shape)\n",
    "print(valid_df.shape)"
   ]
  },
  {
   "cell_type": "markdown",
   "metadata": {},
   "source": [
    "Generally, it is better practice to specify constant variables than it is to hard-code numbers. This way, changing parameters is more efficient and complete. Specfiy some constants below."
   ]
  },
  {
   "cell_type": "code",
   "execution_count": null,
   "metadata": {},
   "outputs": [],
   "source": [
    "IMG_DIM = (1536, 128)\n",
    "CLASSES_NUM = 6\n",
    "BATCH_SIZE = 32\n",
    "EPOCHS = 100\n",
    "N = 12\n",
    "\n",
    "LEARNING_RATE = 1e-4\n",
    "FOLDED_NUM_TRAIN_IMAGES = train_df.shape[0]\n",
    "FOLDED_NUM_VALID_IMAGES = valid_df.shape[0]\n",
    "STEPS_PER_EPOCHS = FOLDED_NUM_TRAIN_IMAGES // BATCH_SIZE\n",
    "VALIDATION_STEPS = FOLDED_NUM_VALID_IMAGES // BATCH_SIZE"
   ]
  },
  {
   "cell_type": "markdown",
   "metadata": {},
   "source": [
    "The `tf.keras.utils.Sequence` is a base object to fit a dataset. Since our dataset is stored both as images and as a csv, we will have to write a DataGenerator that is a subclass of the Sequence class. The DataGenerator will concatenate all the tiles from each original image into a newer image of just the masked areas. It will also get the label from the ISUP grade column and convert it to a one-hot encoding. **One-hot encoding is necessary** because the ISUP grade is not **a continuous datatype but a categorical datatype.**"
   ]
  },
  {
   "cell_type": "code",
   "execution_count": 51,
   "metadata": {},
   "outputs": [],
   "source": [
    "class DataGenerator(tf.keras.utils.Sequence):\n",
    "    \n",
    "    \n",
    "    def __init__(self,\n",
    "                 image_shape,\n",
    "                 batch_size,\n",
    "                 df,\n",
    "                 img_dir,\n",
    "                 maks_dir,\n",
    "                 is_training=True\n",
    "                ):\n",
    "        self.image_shape = image_shape\n",
    "        self.batch_size = batch_size\n",
    "        self.df = df\n",
    "        self.img_dir = img_dir\n",
    "        self.mask_dir = mask_dir\n",
    "        self.is_training = is_training\n",
    "        self.indices = range(df.shape[0])\n",
    "        \n",
    "    \n",
    "    def __len__(self):\n",
    "        return self.df.shape[0] // self.batch_size\n",
    "    \n",
    "    def on_epoch_start(self):\n",
    "        if self.is_training:\n",
    "            np.random.shuffle(self,indices)\n",
    "            \n",
    "    def __getitem__(self, index):\n",
    "        batch_indices = self.indices[index*self.batch_size : (index+1)*self.batch_size]\n",
    "        image_ids = self.df['image_id'].iloc[batch_indices].values\n",
    "        batch_images = [self.__getimages__(image_id) for image_id in images_ids]\n",
    "        batch_labels = [self.df[self.df['image_id']==image_id]['isup_grade'].values[0] for image_id in image_ids]\n",
    "        batch_labels = tf.one_hot(batch_labels, CLASSES_NUM)\n",
    "        \n",
    "        return np.squeeze(np.stack(batch_images))\n",
    "    \n",
    "    def __getimages__(self, image_id):\n",
    "        fnames = [image_id + '_' + str(i) + '.png' for i in range(N)]\n",
    "        images = []\n",
    "        for fn in fnames:\n",
    "            img = np.array(PIL.Image.open(os.path.join(self.img_dir, fn)).convert('RGB'))[:, :, ::-1]\n",
    "            images.append(img)\n",
    "        result = np.stack(images).reshape(1, 1536, 128, 3) / 255.0\n",
    "        return result"
   ]
  },
  {
   "cell_type": "markdown",
   "metadata": {},
   "source": [
    "We will use the DataGenerator to create a generator for our training dataset and for our validation dataset. At each iteration of the generator, the generator will return a batch of images."
   ]
  },
  {
   "cell_type": "code",
   "execution_count": null,
   "metadata": {},
   "outputs": [],
   "source": [
    "train_generator = DataGenerator(image_shape=IMG_DIM,\n",
    "                                batch_size=BATCH_SIZE,\n",
    "                                df=train_df,\n",
    "                                img_dir=TRAIN_IMG_DIR,\n",
    "                                mask_dir=TRAIN_MASKS_DIR)\n",
    "\n",
    "valid_generator = DataGenerator(image_shape=IMG_DIM,\n",
    "                                batch_size=BATCH_SIZE,\n",
    "                                df=valid_df,\n",
    "                                img_dir=TRAIN_IMG_DIR,\n",
    "                                mask_dir=TRAIN_MASKS_DIR)"
   ]
  },
  {
   "cell_type": "markdown",
   "metadata": {},
   "source": [
    "## 3. Visualize our input data\n",
    "\n",
    "Run the following cell to define the method to visualize our input data. This method displays the new images and their corresponding ISUP grade."
   ]
  },
  {
   "cell_type": "code",
   "execution_count": null,
   "metadata": {},
   "outputs": [],
   "source": [
    "def show_tiles(image_batch, label_batch):\n",
    "    plt.figure(figsize=(20, 20))\n",
    "    for n in range(10):\n",
    "        ax.plt.subplot(1, 10, n+1)\n",
    "        plt.imshow(image_batch[n])\n",
    "        decoded = np.argmax(label_batch[n])\n",
    "        plt.title(decoded)\n",
    "        plt.axis(\"off\")"
   ]
  },
  {
   "cell_type": "code",
   "execution_count": null,
   "metadata": {},
   "outputs": [],
   "source": [
    "image_batch, label_batch = next(iter(train_generator))"
   ]
  },
  {
   "cell_type": "markdown",
   "metadata": {},
   "source": [
    "The following 12 tiles were from a single image but has been converted to 12 tiles to reduce white space. We see that only the sections that led to the ISUP grade has been preserved."
   ]
  },
  {
   "cell_type": "code",
   "execution_count": null,
   "metadata": {},
   "outputs": [],
   "source": [
    "show_tiles(image_batch, label_batch)"
   ]
  },
  {
   "cell_type": "markdown",
   "metadata": {},
   "source": [
    "## 4. Build our model + Data augmentation\n",
    "\n",
    "We will be utilizing the Xception pre-trained model to classify our data. The PANDA competition scores submissions using the quadratic weighted kappa. The TensorFlow add-on API contains the Cohen Kappa loss and metric functions. Since we want to use the newest version of TensorFlow through tf-nightly to utilize the pretrained EfficientNet model, we will refrain from using the TFA API as it has not been moved over yet to the tf-nightly version. However, feel free to create your own Cohen Kappa Metric and Loss class using the TensorFlow API.\n",
    "\n",
    "\n",
    "Data augmentation is helpful when dealing with image data as it prevents overfitting. Data augmentation introduces artificial but realistic variance in our images so that our model can learn from more features. Keras has recently implemented keras.layers.preprocessing that allows the model to streamline the data augmentation process.\n",
    "\n",
    "\n",
    "Since the base model has already been trained with imagenet weights, we do not want to weights to change, so the base mode must not be trainable. However, the number of classes that our model has differs from the original model. Therefore, we do not want to include the top layers because we will add our own Dense layer that has the same number of nodes as our output class."
   ]
  },
  {
   "cell_type": "code",
   "execution_count": 58,
   "metadata": {},
   "outputs": [],
   "source": [
    "def make_model():\n",
    "    \n",
    "    data_augmentation = tf.keras.Sequential([\n",
    "        tf.keras.layers.experimental.preprocessing.RandomContrast(0.15, seed=SEED),\n",
    "        tf.keras.layers.experimental.preprocessing.RandomFlip('horizontal', seed=SEED),\n",
    "        tf.keras.layers.experimental.preprocessing.RandomFlip('vertical', seed=SEED),\n",
    "        tf.keras.layers.experimental.preprocessing.RandomTranslation(0.1, 0.1, seed=SEED)\n",
    "    ])\n",
    "    \n",
    "    base_model = tf.keras.applications.VGG16(input_shape=(*IMG_DIM, 3),\n",
    "                                            include_top=False,\n",
    "                                            weights='imagenet')\n",
    "    \n",
    "    base_model.trainable = True\n",
    "    \n",
    "    model = tf.keras.Sequential([\n",
    "        data_augmentation,\n",
    "        \n",
    "        base_model,\n",
    "        \n",
    "        tf.keras.layers.GlobalAveragePooling2D(),\n",
    "        tf.keras.layers.Dense(16, activation='relu'),\n",
    "        tf.keras.layers.BatchNormalization(),\n",
    "        tf.keras.layers.Dense(CLASSES_NUM, activation='softmax')\n",
    "    ])\n",
    "    \n",
    "    \n",
    "    model.compile(optimizer=tf.keras.optimizers.RMSprop(),\n",
    "                 loss='categorical_corssentropy',\n",
    "                 metrics=tf.keras.metrics.AUC(name='auc'))\n",
    "    \n",
    "    return model"
   ]
  },
  {
   "cell_type": "markdown",
   "metadata": {},
   "source": [
    "Let's build out model !! "
   ]
  },
  {
   "cell_type": "code",
   "execution_count": 59,
   "metadata": {},
   "outputs": [],
   "source": [
    "with strategy.scope():\n",
    "    model = make_model()"
   ]
  },
  {
   "cell_type": "markdown",
   "metadata": {},
   "source": [
    "## 5. Training the model\n",
    "\n",
    "And now let's train it! Learning rate is a very important hyperparameter, and it can be difficult to choose the \"right\" one. A learning rate that it too high will prevent the model from converging, but one that is too low will be far too slow. We will utilize multiple callbacks, using the tf.keras API to make sure that we are using an ideal learning rate and to prevent the model from overfitting. We can also save our model so that we do not have to retrain it next time."
   ]
  },
  {
   "cell_type": "code",
   "execution_count": null,
   "metadata": {},
   "outputs": [],
   "source": [
    "def exponential_decay(lr0, s):\n",
    "    def exponential_decay_fn(epoch):\n",
    "        return lr0 * 0.1 **(epoch/s)\n",
    "    return exponential_decay_fn\n",
    "\n",
    "exponentail_decay_fn = exponential_decay(0.01, 20)\n",
    "\n",
    "lr_scheduler = tf.keras.callbacks.LearningRateScheduler(exponential_decay_fn)\n",
    "\n",
    "checkpoint_cb = tf.keras.callbacks.ModelCheckpoint(\"panda_model.h5\",\n",
    "                                                  save_base_only=True)\n",
    "\n",
    "early_stopping_cb = tf.keras.callbacks.EarlyStopping(patience=10,\n",
    "                                                    restore_best_weights=True)"
   ]
  },
  {
   "cell_type": "code",
   "execution_count": null,
   "metadata": {},
   "outputs": [],
   "source": [
    "history = model.fit(\n",
    "    train_generator, epochs=EPOCHS,\n",
    "    steps_per_epoch=STEPS_PER_EPOCH,\n",
    "    validation_data=valid_generator,\n",
    "    validation_steps=VALIDATION_STEPS,\n",
    "    callbacks=[checkpoint_cb, early_stopping_cb, lr_scheduler]\n",
    ")"
   ]
  },
  {
   "cell_type": "markdown",
   "metadata": {},
   "source": [
    "## 6. Predict results\n",
    "For this competition, the test dataset is not available to us. But I wish you all the best of luck, and hopefully this NB served as a helpful tutorial to help you get started."
   ]
  }
 ],
 "metadata": {
  "kernelspec": {
   "display_name": "jipiration",
   "language": "python",
   "name": "jipiration"
  },
  "language_info": {
   "codemirror_mode": {
    "name": "ipython",
    "version": 3
   },
   "file_extension": ".py",
   "mimetype": "text/x-python",
   "name": "python",
   "nbconvert_exporter": "python",
   "pygments_lexer": "ipython3",
   "version": "3.7.5"
  }
 },
 "nbformat": 4,
 "nbformat_minor": 4
}
